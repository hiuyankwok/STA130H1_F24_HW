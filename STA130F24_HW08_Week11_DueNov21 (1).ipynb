{
 "cells": [
  {
   "cell_type": "markdown",
   "id": "8a29dab0",
   "metadata": {},
   "source": [
    "# STA130 Homework 08\n",
    "\n",
    "Please see the course [wiki-textbook](https://github.com/pointOfive/stat130chat130/wiki) for the list of topics covered in this homework assignment, and a list of topics that might appear during ChatBot conversations which are \"out of scope\" for the purposes of this homework assignment (and hence can be safely ignored if encountered)"
   ]
  },
  {
   "cell_type": "markdown",
   "id": "94eee301",
   "metadata": {},
   "source": [
    "<details class=\"details-example\"><summary style=\"color:blue\"><u>Introduction</u></summary>\n",
    "\n",
    "### Introduction\n",
    "    \n",
    "A reasonable characterization of STA130 Homework is that it simply defines a weekly reading comprehension assignment. \n",
    "Indeed, STA130 Homework essentially boils down to completing various understanding confirmation exercises oriented around coding and writing tasks.\n",
    "However, rather than reading a textbook, STA130 Homework is based on ChatBots so students can interactively follow up to clarify questions or confusion that they may still have regarding learning objective assignments.\n",
    "\n",
    "> Communication is a fundamental skill underlying statistics and data science, so STA130 Homework based on ChatBots helps practice effective two-way communication as part of a \"realistic\" dialogue activity supporting underlying conceptual understanding building. \n",
    "\n",
    "It will likely become increasingly tempting to rely on ChatBots to \"do the work for you\". But when you find yourself frustrated with a ChatBots inability to give you the results you're looking for, this is a \"hint\" that you've become overreliant on the ChatBots. Your objective should not be to have ChatBots \"do the work for you\", but to use ChatBots to help you build your understanding so you can efficiently leverage ChatBots (and other resources) to help you work more efficiently.<br><br>\n",
    "\n",
    "</details>\n",
    "\n",
    "<details class=\"details-example\"><summary style=\"color:blue\"><u>Instructions</u></summary>\n",
    "\n",
    "### Instructions\n",
    "    \n",
    "1. Code and write all your answers (for both the \"Pre-lecture\" and \"Post-lecture\" HW) in a python notebook (in code and markdown cells) \n",
    "    \n",
    "> It is *suggested but not mandatory* that you complete the \"Pre-lecture\" HW prior to the Monday LEC since (a) all HW is due at the same time; but, (b) completing some of the HW early will mean better readiness for LEC and less of a \"procrastentation cruch\" towards the end of the week...\n",
    "    \n",
    "2. Paste summaries of your ChatBot sessions (including link(s) to chat log histories if you're using ChatGPT) within your notebook\n",
    "    \n",
    "> Create summaries of your ChatBot sessions by using concluding prompts such as \"Please provide a summary of our exchanges here so I can submit them as a record of our interactions as part of a homework assignment\" or, \"Please provide me with the final working verson of the code that we created together\"\n",
    "    \n",
    "3. Save your python jupyter notebook in your own account and \"repo\" on [github.com](github.com) and submit a link to that notebook though Quercus for assignment marking<br><br>\n",
    "\n",
    "</details>\n",
    "\n",
    "<details class=\"details-example\"><summary style=\"color:blue\"><u>Prompt Engineering?</u></summary>\n",
    "    \n",
    "### Prompt Engineering? \n",
    "    \n",
    "The questions (as copy-pasted prompts) are designed to initialize appropriate ChatBot conversations which can be explored in the manner of an interactive and dynamic textbook; but, it is nonetheless **strongly recommendated** that your rephrase the questions in a way that you find natural to ensure a clear understanding of the question. Given sensible prompts the represent a question well, the two primary challenges observed to arise from ChatBots are \n",
    "\n",
    "1. conversations going beyond the intended scope of the material addressed by the question; and, \n",
    "2. unrecoverable confusion as a result of sequential layers logial inquiry that cannot be resolved. \n",
    "\n",
    "In the case of the former (1), adding constraints specifying the limits of considerations of interest tends to be helpful; whereas, the latter (2) is often the result of initial prompting that leads to poor developments in navigating the material, which are likely just best resolve by a \"hard reset\" with a new initial approach to prompting.  Indeed, this is exactly the behavior [hardcoded into copilot](https://answers.microsoft.com/en-us/bing/forum/all/is-this-even-normal/0b6dcab3-7d6c-4373-8efe-d74158af3c00)...\n",
    "\n",
    "</details>"
   ]
  },
  {
   "cell_type": "markdown",
   "id": "ffbc1200",
   "metadata": {},
   "source": [
    "### Marking Rubric (which may award partial credit)\n",
    "- [0.1 points]: All relevant ChatBot summaries [including link(s) to chat log histories if you're using ChatGPT] are reported within the notebook\n",
    "- [0.2 points]: Well-communicated and sensible answers for Question \"2\"\n",
    "- [0.2 points]: Correct code and well-communicated correct answer for Question \"4\" \n",
    "- [0.2 points]: Correct calculations for requested metrics in Question \"6\" \n",
    "- [0.3 points]: Correct and well-communicated explanation of differences for Question \"7\" \n",
    "<!-- - [0.1 points]: Written submission evaluation and enagement confirmation with ChatBot summaries for \"8\", \"10\"-->\n",
    "\n"
   ]
  },
  {
   "cell_type": "markdown",
   "id": "202c70cd",
   "metadata": {},
   "source": [
    "chat bot link: https://chatgpt.com/share/673ddaf0-9ec4-8003-adab-f6d655281699\n",
    "\n",
    "\n",
    "conversation summary:\n",
    "In our conversation, we discussed various topics related to building and interpreting decision tree models. You explored performing an 80/20 train-test split, fitting decision tree classifiers, visualizing the decision tree, evaluating model performance with confusion matrices, and analyzing feature importances. We also compared the interpretation of coefficients in linear regression versus feature importances in decision trees, emphasizing that linear regression provides direct quantitative relationships while decision trees highlight the relative significance of each feature without a specific numerical relationship."
   ]
  },
  {
   "cell_type": "markdown",
   "id": "67686639",
   "metadata": {},
   "source": [
    "## \"Pre-lecture\" HW [*completion prior to next LEC is suggested but not mandatory*]"
   ]
  },
  {
   "cell_type": "markdown",
   "id": "54a53734",
   "metadata": {},
   "source": [
    "\n",
    "### 1. Start a ChatBot session to understand what a *Classification Decision Tree* is: (a) ask the ChatBot to describe the type of problem a *Classification Decision Tree* addresses and provide some examples of real-world applications where this might be particularly useful, and then (b) make sure you understand the difference between how a *Classification Decision Tree* makes *(classification) predictions* versus how *Multiple Linear Regression* makes *(regression) predictions*<br>\n",
    "\n",
    "<details class=\"details-example\"><summary style=\"color:blue\"><u>Further Guidance</u></summary>\n",
    "\n",
    "> _The first part (a) of this question is looking for you to understand the difference between **classification** and **regression**. The second part (b) of the questions is looking for a fairly high level understanding of the general nature of a decision tree and how it is based on making sequential decisions down the *nodes* of *tree* in order to eventually make a final prediction. This part (b) is essentially the **Classification Decision Tree** analog of \"explain how the **linear form** makes a prediciton in **Multiple Linear Regression** generally speaking\"; namely,\"explain how the **tree** makes a prediciton in a **Classification Decision Tree** generally speaking\"._\n",
    "> \n",
    "> _**If you're struggling with this, it would probably be most helpful to go search for and some images of example decision trees to look at!**_\n",
    "> \n",
    "> - _You may be beginning to realize or will nonetheless eventually come to understand that the sequential decisions at each stage of the **Decision Tree** are **interactions** (in the same manner as **interactions** in **Multiple Linear Regression**.  Once you start to see that and it's making sense to you then you'll increasingly appreciate how **complex** **Decision Tree** models can be, even though they're pretty simple to understand if you just look at one._\n",
    ">\n",
    "> ---\n",
    ">    \n",
    "> _When using chatbots, it's often more effective (and enjoyable) to ask concise, single questions rather than presenting complex, multi-part queries. This approach can help in obtaining clearer and more specific responses (that might be more enjoyable to interact with). You can always ask multi-part questions as a series of additional sequential questions. With this approach, chatbots may not automatically reiterate previously explained concepts. So if you need a refresher or further explanation on a topic discussed earlier, just explicitly request during follow-up interactions._\n",
    "> \n",
    "> ---\n",
    "> \n",
    "> _Don't forget to ask for summaries of all your different ChatBot sessions and organize and paste these into your homework notebook (including link(s) to chat log histories if you're using ChatBot); but, if you're using the STA130 custom NBLM ChatBot, you'll only be able to ask for summaries, of course!_ \n",
    "    \n",
    "</details>"
   ]
  },
  {
   "cell_type": "markdown",
   "id": "827f56de",
   "metadata": {},
   "source": [
    "a) What type of problem does a Classification Decision Tree address, and where is it used in the real world?\n",
    "\n",
    "A Classification Decision Tree is a supervised machine learning model used to address classification problems, where the goal is to predict a discrete category or label for a given input based on its features.\n",
    "\n",
    "Examples of real-world applications:\n",
    "\n",
    "Medical Diagnosis:\n",
    "Predict whether a tumor is benign or malignant based on patient data.\n",
    "Customer Segmentation:\n",
    "Classify customers into groups (e.g., loyal, potential churners) based on purchasing behavior.\n",
    "Fraud Detection:\n",
    "Identify whether a financial transaction is legitimate or fraudulent.\n",
    "Spam Filtering:\n",
    "Classify emails as spam or not spam based on content features.\n",
    "Credit Risk Analysis:\n",
    "Predict whether a loan applicant is likely to default based on financial history.\n",
    "\n",
    "(b) How does a Classification Decision Tree make predictions versus Multiple Linear Regression?\n",
    "Classification Decision Tree:\n",
    "\n",
    "Process: The tree splits the data into subsets based on feature thresholds (e.g., if income > $50k, go left; else, go right), forming a hierarchical structure of decision rules. At the leaf nodes, the majority label is used to classify a new data point.\n",
    "Output: A discrete category or label (e.g., \"spam\" or \"not spam\").\n",
    "Goal: Minimize misclassification errors by finding the splits that best separate the classes.\n",
    "\n",
    "Multiple Linear Regression:\n",
    "\n",
    "Process: It predicts a continuous outcome by fitting a linear equation to the data:\n",
    "\n",
    "y = B0 + B1x1 + B2x2 + ... + Bnxn + error term\n",
    "\n",
    "where y is the outcome, x are the input features, B are the coefficients\n",
    "\n",
    "Output: A continuous numeric value (e.g., house price, blood pressure).\n",
    "\n",
    "Goal: Minimize the differences (errors) between the predicted and actual values, often using metrics like Mean Squared Error (MSE).\n",
    "Key Differences:\n",
    "\n",
    "Nature of Predictions:\n",
    "Classification Decision Trees predict categories, while Multiple Linear Regression predicts numeric values.\n",
    "\n",
    "Underlying Algorithm:\n",
    "Trees split data recursively based on feature thresholds, while regression creates a weighted sum of features.\n",
    "\n",
    "Error Metric:\n",
    "Trees aim to minimize misclassification, whereas regression minimizes numerical error.\n"
   ]
  },
  {
   "cell_type": "markdown",
   "id": "6bbf97d1",
   "metadata": {},
   "source": [
    "### 2. Continue your ChatBot session and explore with your ChatBot what real-world application scenario(s) might be most appropriately addressed by each of the following *metrics* below: provide your answers and, in your own words, *concisely explain your rationale for your answers.*<br>\n",
    "\n",
    "\n",
    "1. **Accuracy** measures the proportion of true results (both true positives and true negatives) in the population.\n",
    "\n",
    "$$\\text{Accuracy} = \\frac{TP + TN}{TP + TN + FP + FN}$$\n",
    "    \n",
    "2. **Sensitivity** measures the proportion of actual positives that are correctly identified.\n",
    "\n",
    "$$\\text{Sensitivity} = \\frac{TP}{TP + FN}$$\n",
    "\n",
    "3. **Specificity** measures the proportion of actual negatives that are correctly identified.\n",
    "\n",
    "$$\\text{Specificity} = \\frac{TN}{TN + FP}$$\n",
    "\n",
    "4. **Precision** measures the proportion of positive identifications that were actually correct.\n",
    "\n",
    "$$\\text{Precision} = \\frac{TP}{TP + FP}$$\n",
    "\n",
    "<details class=\"details-example\"><summary style=\"color:blue\"><u>Further Guidance</u></summary>\n",
    "\n",
    "> _This question could be restated as, \"Give examples of real-world examples where each of these **metrics** would be particularly useful.\"_\n",
    ">\n",
    "> _The primary objective here is to understand the distinction between each of these **metrics**. The secondary objective is to notice how the nature of the decision-making that each of these **metrics** most naturally supports is very distinct, ideally based on identifying memorable examples that really distinguish between the **metrics**._\n",
    ">\n",
    "> - _Have a look at this (greatly expanded) handy list of additional metrics, formulas, and synonyms at the following [wikipedia page](https://en.wikipedia.org/wiki/Sensitivity_and_specificity) if you want this to get real crazy real fast._\n",
    ">    \n",
    "> ---\n",
    "> \n",
    "> _Don't forget to ask for summaries of all your different ChatBot sessions and organize and paste these into your homework notebook (including link(s) to chat log histories if you're using ChatBot); but, if you're using the STA130 custom NBLM ChatBot, you'll only be able to ask for summaries, of course!_ \n",
    "    \n",
    "</details>"
   ]
  },
  {
   "cell_type": "markdown",
   "id": "26e8c6c7",
   "metadata": {},
   "source": [
    "1. **Accuracy** measures the proportion of true results (both true positives and true negatives) in the population.\n",
    "\n",
    "$$\\text{Accuracy} = \\frac{TP + TN}{TP + TN + FP + FN}$$\n",
    "    \n",
    "Application Scenario: Classifying spam vs. non-spam emails in a low-cost decision environment.\n",
    "\n",
    "Rationale: Accuracy works well when false positives (e.g., a legitimate email marked as spam) and false negatives (e.g., spam email going undetected) have similar consequences. If the dataset is balanced and misclassification costs are uniform, accuracy is straightforward and intuitive.\n",
    "\n",
    "2. **Sensitivity** measures the proportion of actual positives that are correctly identified.\n",
    "\n",
    "$$\\text{Sensitivity} = \\frac{TP}{TP + FN}$$\n",
    "\n",
    "Application Scenario: Detecting cancer in medical screenings.\n",
    "\n",
    "Rationale: Sensitivity ensures a high rate of correctly identifying true positive cases (e.g., detecting actual cancer cases). Missing a true positive (false negative) can have severe consequences, so it's critical to minimize false negatives even at the cost of more false positives.\n",
    "\n",
    "3. **Specificity** measures the proportion of actual negatives that are correctly identified.\n",
    "\n",
    "$$\\text{Specificity} = \\frac{TN}{TN + FP}$$\n",
    "\n",
    "Application Scenario: Diagnosing rare diseases in a general population.\n",
    "\n",
    "Rationale: In scenarios where the condition is rare, correctly identifying true negatives is crucial to avoid mislabeling healthy individuals as sick (false positives). Specificity helps ensure that resources are not wasted on unnecessary follow-up tests or treatments for individuals without the disease.\n",
    "\n",
    "4. **Precision** measures the proportion of positive identifications that were actually correct.\n",
    "\n",
    "$$\\text{Precision} = \\frac{TP}{TP + FP}$$\n",
    "\n",
    "Application Scenario: Fraud detection in financial transactions.\n",
    "\n",
    "Rationale: Precision is essential when the cost of a false positive (e.g., flagging a legitimate transaction as fraud) is high. High precision ensures that flagged transactions are very likely to be actual fraud, reducing unnecessary disruptions and costs for legitimate users.\n",
    "\n",
    "***key difference between sensitivity and precision:*** \n",
    "\n",
    "sensitivity: \n",
    "Focus: How comprehensive your model is at finding actual positives.\n",
    "\n",
    "Question Answered: \"Of all the actual positive cases, how many did I correctly predict?\"\n",
    "\n",
    "Precision: \n",
    "Focus: How reliable your positive predictions are.\n",
    "Question Answered: \"Of all the cases I predicted as positive, how many are truly positive?\"\n",
    "\n",
    "Practical Example to Differentiate:\n",
    "Scenario: A medical test for detecting a disease.\n",
    "\n",
    "High Sensitivity: Ensures most diseased patients are identified (fewer false negatives). However, this might come with more false positives (low precision).\n",
    "\n",
    "Interpretation: \"The test catches nearly everyone who is sick, but some healthy people are misclassified as sick.\"\n",
    "\n",
    "High Precision: Ensures that those flagged as diseased are very likely to actually have the disease (fewer false positives). However, this might come at the cost of missing some actual cases (low sensitivity).\n",
    "\n",
    "Interpretation: \"The test rarely flags healthy people as sick, but it might miss some sick patients.\"\n",
    "\n",
    "---------------\n",
    "\n",
    "Summary of Metric Distinctions\n",
    "Accuracy is useful when errors are evenly distributed and the dataset is balanced.\n",
    "\n",
    "Sensitivity is vital when missing true positives (false negatives) carries significant risks.\n",
    "\n",
    "Specificity is essential when confirming true negatives is critical, particularly in imbalanced datasets.\n",
    "\n",
    "Precision is key when the cost of false positives is particularly high."
   ]
  },
  {
   "cell_type": "markdown",
   "id": "f58bd64b",
   "metadata": {},
   "source": [
    "### 3. Explore the amazon books dataset, seen previously at the start of the semester, providing some initital standard *exploratory data analysis (EDA)* and data summarization after pre-processing the dataset to meet the requirements below<br>\n",
    "\n",
    " 1. remove `Weight_oz`, `Width`, and `Height` \n",
    " 2. drop all remaining rows with `NaN` entries \n",
    " 3. set `Pub year` and `NumPages` to have the type `int`, and `Hard_or_Paper` to have the type `category`\n",
    "\n",
    "<details class=\"details-example\"><summary style=\"color:blue\"><u>Further Guidance</u></summary>\n",
    "\n",
    "> _`NaN` entries can't be used in their raw form with the `scikit-learn` methodologies, so we do need to remove them to proceed with our analyses._\n",
    ">     \n",
    "> _Only remove rows with `NaN` entries once you've subset to the columns you're interested in. This will minimize potentially unnecessary data loss..._\n",
    ">\n",
    "> _It would be possible to consider imputing missing data to further mitigate data loss, but the considerations for doing so are more advanced than the level of our course, so we'll not consider that for now._ \n",
    "\n",
    "</details>"
   ]
  },
  {
   "cell_type": "code",
   "execution_count": 5,
   "id": "e4b50624",
   "metadata": {},
   "outputs": [],
   "source": [
    "import pandas as pd\n",
    "import numpy as np\n",
    "from sklearn import tree\n",
    "from sklearn.model_selection import train_test_split\n",
    "from sklearn.metrics import confusion_matrix, ConfusionMatrixDisplay\n",
    "from sklearn.metrics import accuracy_score, recall_score, make_scorer\n",
    "import graphviz as gv\n",
    "\n",
    "url = \"https://raw.githubusercontent.com/pointOfive/STA130_F23/main/Data/amazonbooks.csv\"\n",
    "ab = pd.read_csv(url, encoding=\"ISO-8859-1\")\n",
    "# create `ab_reduced_noNaN` based on the specs above"
   ]
  },
  {
   "cell_type": "code",
   "execution_count": 6,
   "id": "b1d3f2d9",
   "metadata": {},
   "outputs": [
    {
     "name": "stdout",
     "output_type": "stream",
     "text": [
      "<class 'pandas.core.frame.DataFrame'>\n",
      "Index: 319 entries, 0 to 324\n",
      "Data columns (total 10 columns):\n",
      " #   Column         Non-Null Count  Dtype  \n",
      "---  ------         --------------  -----  \n",
      " 0   Title          319 non-null    object \n",
      " 1   Author         319 non-null    object \n",
      " 2   List Price     319 non-null    float64\n",
      " 3   Amazon Price   319 non-null    float64\n",
      " 4   Hard_or_Paper  319 non-null    object \n",
      " 5   NumPages       319 non-null    float64\n",
      " 6   Publisher      319 non-null    object \n",
      " 7   Pub year       319 non-null    float64\n",
      " 8   ISBN-10        319 non-null    object \n",
      " 9   Thick          319 non-null    float64\n",
      "dtypes: float64(5), object(5)\n",
      "memory usage: 27.4+ KB\n",
      "None\n",
      "                   Title        Author  List Price  Amazon Price  \\\n",
      "count                319           319  319.000000    319.000000   \n",
      "unique               309           251         NaN           NaN   \n",
      "top     The Great Gatsby  Jodi Picoult         NaN           NaN   \n",
      "freq                   3             7         NaN           NaN   \n",
      "mean                 NaN           NaN   18.362978     12.941034   \n",
      "std                  NaN           NaN   13.976755     12.436673   \n",
      "min                  NaN           NaN    1.500000      0.770000   \n",
      "25%                  NaN           NaN   13.890000      8.600000   \n",
      "50%                  NaN           NaN   15.000000     10.200000   \n",
      "75%                  NaN           NaN   19.360000     12.560000   \n",
      "max                  NaN           NaN  139.950000    139.950000   \n",
      "\n",
      "       Hard_or_Paper    NumPages Publisher     Pub year    ISBN-10       Thick  \n",
      "count            319  319.000000       319   319.000000        319  319.000000  \n",
      "unique             2         NaN       158          NaN        316         NaN  \n",
      "top                P         NaN   Vintage          NaN  743273567         NaN  \n",
      "freq             233         NaN        37          NaN          2         NaN  \n",
      "mean             NaN  334.272727       NaN  2002.175549        NaN    0.903448  \n",
      "std              NaN  161.601510       NaN    10.646133        NaN    0.365261  \n",
      "min              NaN   24.000000       NaN  1936.000000        NaN    0.100000  \n",
      "25%              NaN  208.000000       NaN  1998.000000        NaN    0.600000  \n",
      "50%              NaN  320.000000       NaN  2005.000000        NaN    0.900000  \n",
      "75%              NaN  416.000000       NaN  2010.000000        NaN    1.100000  \n",
      "max              NaN  896.000000       NaN  2011.000000        NaN    2.100000  \n"
     ]
    }
   ],
   "source": [
    "import pandas as pd\n",
    "\n",
    "# Load the dataset from the raw GitHub link\n",
    "url = \"https://raw.githubusercontent.com/pointOfive/STA130_F23/main/Data/amazonbooks.csv\"\n",
    "ab = pd.read_csv(url, encoding=\"ISO-8859-1\")\n",
    "\n",
    "# Drop 'Weight_oz', 'Width', and 'Height'\n",
    "columns_to_drop = ['Weight_oz', 'Width', 'Height']\n",
    "ab_reduced = ab.drop(columns=columns_to_drop, errors='ignore')\n",
    "\n",
    "# Drop rows with any NaN entries\n",
    "ab_reduced_noNaN = ab_reduced.dropna()\n",
    "\n",
    "# Convert 'Pub year' and 'NumPages' to integer type using .loc\n",
    "ab_reduced_noNaN.loc[:, 'Pub year'] = ab_reduced_noNaN['Pub year'].astype(int)\n",
    "ab_reduced_noNaN.loc[:, 'NumPages'] = ab_reduced_noNaN['NumPages'].astype(int)\n",
    "\n",
    "# Convert 'Hard_or_Paper' to a categorical type using .loc\n",
    "ab_reduced_noNaN.loc[:, 'Hard_or_Paper'] = ab_reduced_noNaN['Hard_or_Paper'].astype('category')\n",
    "\n",
    "# Display summary information\n",
    "print(ab_reduced_noNaN.info())\n",
    "print(ab_reduced_noNaN.describe(include='all'))\n"
   ]
  },
  {
   "cell_type": "markdown",
   "id": "c225c340",
   "metadata": {},
   "source": [
    "### 4. Create an 80/20 split with 80% of the data as a training set *ab_reduced_noNaN_train* and 20% of the data testing set  *ab_reduced_noNaN_test* using either *df.sample(...)* as done in TUT or using *train_test_split(...)* as done in the previous HW, and report on how many observations there are in the training data set and the test data set.<br><br>Tell a ChatBot that you are about to fit a \"scikit-learn\" *DecisionTreeClassifier* model and ask what the two steps given below are doing; then use your ChatBots help to write code to \"train\" a classification tree *clf* using only the *List Price* variable to predict whether or not a book is a hard cover or paper back book using a *max_depth* of *2*; finally use *tree.plot_tree(clf)* to explain what *predictions* are made based on *List Price* for the fitted *clf* model\n",
    "\n",
    "```python\n",
    "y = pd.get_dummies(ab_reduced_noNaN[\"Hard_or_Paper\"])['H']\n",
    "X = ab_reduced_noNaN[['List Price']]\n",
    "```\n",
    "<details class=\"details-example\"><summary style=\"color:blue\"><u>Further Guidance</u></summary>\n",
    "\n",
    "> _To complete the final 80/20 split of the **observations** in a reproducible way, set a \"random seed\"._ \n",
    "> \n",
    "> - _A single **observation** consists of all the measurements made on a single entity, typically corresponding to a row of a data frame. In **Machine Learning**, a collection of values of interest measured for a single entity is called a \"vector\" and so the **observation** is referred to as a **vector**_.\n",
    ">    \n",
    "> _Asking the ChatBot about \"DecisionTreeClassifier .fit(...)\" can be helpful here..._\n",
    "> \n",
    "> _Should you use the \"ab_reduced_noNaN\" data, or the \"ab_reduced_noNaN_train\" data, or the \"ab_reduced_noNaN_test\" data to initially fit the classification tree? Why?_\n",
    ">    \n",
    "> _You can visualize your decision tree using the `tree.plot_tree(clf)` function shown in the `sklearn` documentation [here](\n",
    "https://scikit-learn.org/stable/auto_examples/tree/plot_unveil_tree_structure.html#what-is-the-values-array-used-here) and [here](https://scikit-learn.org/stable/modules/tree.html); but, to make it more immediately readible it might be better to use `graphviz`, which is demonstrated in the `sklearn` documentation [here](https://scikit-learn.org/stable/modules/tree.html#alternative-ways-to-export-trees)_ \n",
    ">    \n",
    "> ---\n",
    "> \n",
    "> _Don't forget to ask for summaries of all your different ChatBot sessions and organize and paste these into your homework notebook (including link(s) to chat log histories if you're using ChatBot); but, if you're using the STA130 custom NBLM ChatBot, you'll only be able to ask for summaries, of course!_ \n",
    "    \n",
    "</details>"
   ]
  },
  {
   "cell_type": "code",
   "execution_count": 8,
   "id": "162da947",
   "metadata": {},
   "outputs": [
    {
     "name": "stdout",
     "output_type": "stream",
     "text": [
      "Training data set size: 255 observations\n",
      "Test data set size: 64 observations\n"
     ]
    }
   ],
   "source": [
    "import pandas as pd\n",
    "from sklearn.model_selection import train_test_split\n",
    "\n",
    "# Assume ab_reduced_noNaN is your dataset after pre-processing\n",
    "X = ab_reduced_noNaN[['List Price']]\n",
    "y = pd.get_dummies(ab_reduced_noNaN[\"Hard_or_Paper\"])['H']\n",
    "\n",
    "# Create an 80/20 train/test split\n",
    "X_train, X_test, y_train, y_test = train_test_split(X, y, test_size=0.2, random_state=42)\n",
    "\n",
    "# Report the number of observations in each set\n",
    "print(f\"Training data set size: {X_train.shape[0]} observations\")\n",
    "print(f\"Test data set size: {X_test.shape[0]} observations\")\n"
   ]
  },
  {
   "cell_type": "code",
   "execution_count": 9,
   "id": "5532f3ed",
   "metadata": {},
   "outputs": [
    {
     "data": {
      "image/png": "[encoded data removed]",
      "text/plain": [
       "<Figure size 640x480 with 1 Axes>"
      ]
     },
     "metadata": {},
     "output_type": "display_data"
    }
   ],
   "source": [
    "from sklearn.tree import DecisionTreeClassifier\n",
    "from sklearn import tree\n",
    "import matplotlib.pyplot as plt\n",
    "\n",
    "# Define target and features\n",
    "y = pd.get_dummies(ab_reduced_noNaN[\"Hard_or_Paper\"])['H']\n",
    "X = ab_reduced_noNaN[['List Price']]\n",
    "\n",
    "# Initialize the model with max_depth = 2\n",
    "clf = DecisionTreeClassifier(max_depth=2, random_state=42)\n",
    "\n",
    "# Train the model\n",
    "clf.fit(X, y)\n",
    "\n",
    "# Plot the tree\n",
    "tree.plot_tree(clf, filled=True, feature_names=['List Price'], class_names=['Paperback', 'Hardcover'])\n",
    "plt.show()\n"
   ]
  },
  {
   "cell_type": "markdown",
   "id": "27fb5f90",
   "metadata": {},
   "source": [
    "note: \n",
    "max_depth of 2 ==> the decision process is simple and based on one key threshold value.\n",
    "\n",
    "The Gini index (or Gini impurity) is a measure used in decision trees to evaluate the \"impurity\" of a node. It quantifies how often a randomly chosen element would be incorrectly classified if it were randomly labeled according to the distribution of labels in the node. The Gini index ranges from 0 (perfectly pure, all elements are the same class) to 1 (maximally impure, equal distribution of all classes). The decision tree algorithm uses this value to choose the feature and threshold that best splits the data."
   ]
  },
  {
   "cell_type": "markdown",
   "id": "f2ac0e5b",
   "metadata": {},
   "source": [
    "<details class=\"details-example\"><summary style=\"color:blue\"><u>Continue now...?</u></summary>\n",
    "\n",
    "### Pre-lecture VS Post-lecture HW\n",
    "\n",
    "Feel free to work on the \"Post-lecture\" HW below if you're making good progress and want to continue: for **HW 08** this could be reasonable because, as you'll see, the process of creating and using **classification decision trees** is quite similar to the process for creating and using **multiple linear regression** models. There are differences of course, such as how there is **coefficient hypothesis testing** in **multiple linear regression** and **confusion matrices** in **classification decision trees**, and so on. But you would very likely be able to leverage the silarities to make a lot of progress with **classification decision trees** based on your experience with **multiple linear regression**.\n",
    "    \n",
    "*The benefits of continue would are that (a) Consolidate the knowledge already learned and integrate it comprehensively. (b) Let you build experience interacting with ChatBots (and understand their strengths and limitations in this regard)... it's good to have sense of when using a ChatBot is the best way to figure something out, or if another approach (such as course provided resources or a plain old websearch for the right resourse) would be more effective*\n",
    "    \n",
    "</details>    "
   ]
  },
  {
   "cell_type": "markdown",
   "id": "d75e7d3e",
   "metadata": {},
   "source": [
    "## \"Post-lecture\" HW [*submission along with \"Pre-lecture\" HW is due prior to next TUT*]\n"
   ]
  },
  {
   "cell_type": "markdown",
   "id": "98b3ce1f",
   "metadata": {},
   "source": [
    "### 5. Repeat the previous problem but this time visualize the *classification decision tree* based on the following specifications below; then explain generally how predictions are made for the *clf2* model<br>\n",
    "\n",
    "1. `X = ab_reduced_noNaN[['NumPages', 'Thick', 'List Price']]`\n",
    "2. `max_depth` set to `4`\n",
    "\n",
    "<details class=\"details-example\"><summary style=\"color:blue\"><u>Further Guidance</u></summary>\n",
    "\n",
    "> - _Use the same **train/test split** dataset used so far_\n",
    "> - _Train the **classification decision tree** `clf2` using **predictor variables** `NumPages`, `Thick` and `List Price`_ \n",
    "> - _Again **predict** whether or not a book is hard cover book or a paper back book_\n",
    "> - _You can visualize your decision tree using the `tree.plot_tree(clf)` function shown in the `sklearn` documentation [here](\n",
    "https://scikit-learn.org/stable/auto_examples/tree/plot_unveil_tree_structure.html#what-is-the-values-array-used-here) and [here](https://scikit-learn.org/stable/modules/tree.html); but, to make it more immediately readible it might be better to use `graphviz`, which is demonstrated in the `sklearn` documentation [here](https://scikit-learn.org/stable/modules/tree.html#alternative-ways-to-export-trees)_\n",
    ">\n",
    "> _If you are interested in how to find the best `max_depth` for a tree, ask ChatBot about \"GridSearchCV\"_\n",
    ">    \n",
    "> ---\n",
    "> \n",
    "> _Don't forget to ask for summaries of all your different ChatBot sessions and organize and paste these into your homework notebook (including link(s) to chat log histories if you're using ChatBot); but, if you're using the STA130 custom NBLM ChatBot, you'll only be able to ask for summaries, of course!_ \n",
    "    \n",
    "</details>"
   ]
  },
  {
   "cell_type": "code",
   "execution_count": 10,
   "id": "c03c869a",
   "metadata": {
    "scrolled": true
   },
   "outputs": [
    {
     "data": {
      "text/plain": [
       "[Text(0.5, 0.9, 'NumPages <= 17.97\\ngini = 0.384\\nsamples = 255\\nvalue = [189, 66]'),\n",
       " Text(0.25, 0.7, 'NumPages <= 10.8\\ngini = 0.212\\nsamples = 183\\nvalue = [161, 22]'),\n",
       " Text(0.125, 0.5, 'NumPages <= 7.86\\ngini = 0.369\\nsamples = 45\\nvalue = [34, 11]'),\n",
       " Text(0.0625, 0.3, 'NumPages <= 5.47\\ngini = 0.111\\nsamples = 17\\nvalue = [16, 1]'),\n",
       " Text(0.03125, 0.1, 'gini = 0.375\\nsamples = 4\\nvalue = [3, 1]'),\n",
       " Text(0.09375, 0.1, 'gini = 0.0\\nsamples = 13\\nvalue = [13, 0]'),\n",
       " Text(0.1875, 0.3, 'NumPages <= 7.97\\ngini = 0.459\\nsamples = 28\\nvalue = [18, 10]'),\n",
       " Text(0.15625, 0.1, 'gini = 0.0\\nsamples = 4\\nvalue = [0, 4]'),\n",
       " Text(0.21875, 0.1, 'gini = 0.375\\nsamples = 24\\nvalue = [18, 6]'),\n",
       " Text(0.375, 0.5, 'NumPages <= 16.97\\ngini = 0.147\\nsamples = 138\\nvalue = [127, 11]'),\n",
       " Text(0.3125, 0.3, 'NumPages <= 13.56\\ngini = 0.12\\nsamples = 125\\nvalue = [117, 8]'),\n",
       " Text(0.28125, 0.1, 'gini = 0.0\\nsamples = 24\\nvalue = [24, 0]'),\n",
       " Text(0.34375, 0.1, 'gini = 0.146\\nsamples = 101\\nvalue = [93, 8]'),\n",
       " Text(0.4375, 0.3, 'NumPages <= 16.995\\ngini = 0.355\\nsamples = 13\\nvalue = [10, 3]'),\n",
       " Text(0.40625, 0.1, 'gini = 0.444\\nsamples = 6\\nvalue = [4, 2]'),\n",
       " Text(0.46875, 0.1, 'gini = 0.245\\nsamples = 7\\nvalue = [6, 1]'),\n",
       " Text(0.75, 0.7, 'NumPages <= 27.275\\ngini = 0.475\\nsamples = 72\\nvalue = [28, 44]'),\n",
       " Text(0.625, 0.5, 'NumPages <= 24.97\\ngini = 0.39\\nsamples = 49\\nvalue = [13, 36]'),\n",
       " Text(0.5625, 0.3, 'NumPages <= 19.995\\ngini = 0.458\\nsamples = 31\\nvalue = [11, 20]'),\n",
       " Text(0.53125, 0.1, 'gini = 0.375\\nsamples = 16\\nvalue = [4, 12]'),\n",
       " Text(0.59375, 0.1, 'gini = 0.498\\nsamples = 15\\nvalue = [7, 8]'),\n",
       " Text(0.6875, 0.3, 'NumPages <= 25.025\\ngini = 0.198\\nsamples = 18\\nvalue = [2, 16]'),\n",
       " Text(0.65625, 0.1, 'gini = 0.0\\nsamples = 6\\nvalue = [0, 6]'),\n",
       " Text(0.71875, 0.1, 'gini = 0.278\\nsamples = 12\\nvalue = [2, 10]'),\n",
       " Text(0.875, 0.5, 'NumPages <= 44.075\\ngini = 0.454\\nsamples = 23\\nvalue = [15, 8]'),\n",
       " Text(0.8125, 0.3, 'NumPages <= 27.975\\ngini = 0.492\\nsamples = 16\\nvalue = [9, 7]'),\n",
       " Text(0.78125, 0.1, 'gini = 0.0\\nsamples = 2\\nvalue = [2, 0]'),\n",
       " Text(0.84375, 0.1, 'gini = 0.5\\nsamples = 14\\nvalue = [7, 7]'),\n",
       " Text(0.9375, 0.3, 'NumPages <= 98.225\\ngini = 0.245\\nsamples = 7\\nvalue = [6, 1]'),\n",
       " Text(0.90625, 0.1, 'gini = 0.0\\nsamples = 5\\nvalue = [5, 0]'),\n",
       " Text(0.96875, 0.1, 'gini = 0.5\\nsamples = 2\\nvalue = [1, 1]')]"
      ]
     },
     "execution_count": 10,
     "metadata": {},
     "output_type": "execute_result"
    },
    {
     "data": {
      "image/png": "[encoded data removed]",
      "text/plain": [
       "<Figure size 640x480 with 1 Axes>"
      ]
     },
     "metadata": {},
     "output_type": "display_data"
    }
   ],
   "source": [
    "from sklearn.tree import DecisionTreeClassifier, plot_tree\n",
    "\n",
    "# Define predictor variables\n",
    "X = ab_reduced_noNaN[['NumPages', 'Thick', 'List Price']]\n",
    "y = pd.get_dummies(ab_reduced_noNaN[\"Hard_or_Paper\"])['H']\n",
    "\n",
    "# Train the decision tree with max_depth set to 4\n",
    "clf2 = DecisionTreeClassifier(max_depth=4)\n",
    "clf2.fit(X_train, y_train)\n",
    "\n",
    "# Visualize the tree\n",
    "plot_tree(clf2, filled=True, feature_names=['NumPages', 'Thick', 'List Price'])\n"
   ]
  },
  {
   "cell_type": "markdown",
   "id": "66998141",
   "metadata": {},
   "source": [
    "How predictions are made:\n",
    "\n",
    "In the clf2 model, the decision tree splits the data based on the most informative thresholds of the NumPages, Thick, and List Price variables. The tree continues splitting based on the values of these features at each level, ultimately classifying books as either hardcover or paperback. The max_depth=4 allows the tree to have a maximum of four decision levels, offering a balance between model complexity and interpretability."
   ]
  },
  {
   "cell_type": "markdown",
   "id": "d889386a",
   "metadata": {},
   "source": [
    "### 6. Use previously created *ab_reduced_noNaN_test* to create confusion matrices for *clf* and *clf2*. Report the sensitivity, specificity and accuracy for each of the models<br>\n",
    "\n",
    "<details class=\"details-example\"><summary style=\"color:blue\"><u>Further Guidance</u></summary>\n",
    "\n",
    "> _Hopefully you immediately thought to ask ChatBot to help you with this problem, but if you did you should take time to make sure you're clear about the key components of what the ChatBot is providing for you. You might want to know_\n",
    "> - _what is a \"positive\" and what is a \"negative\"_\n",
    "> - _how to read an `sklearn` confusion matrix_\n",
    "> - _what leads to TP, TN, FP, and FN_\n",
    "> - _whether `y_true` or `y_pred` go first in the `confusion_matrix` function_   \n",
    ">\n",
    "> _Have the visualizations you make use decimal numbers with three signifiant digits, such as `0.123` (and not as percentages like `12.3%`), probably based on `np.round()`_\n",
    ">    \n",
    "> ---\n",
    "> \n",
    "> _Don't forget to ask for summaries of all your different ChatBot sessions and organize and paste these into your homework notebook (including link(s) to chat log histories if you're using ChatBot); but, if you're using the STA130 custom NBLM ChatBot, you'll only be able to ask for summaries, of course!_ \n",
    "       \n",
    "</details>"
   ]
  },
  {
   "cell_type": "code",
   "execution_count": 11,
   "id": "b7689812",
   "metadata": {},
   "outputs": [
    {
     "name": "stdout",
     "output_type": "stream",
     "text": [
      "For clf model:\n",
      "Confusion Matrix: \n",
      "[[40  4]\n",
      " [ 3 17]]\n",
      "Sensitivity: 0.85\n",
      "Specificity: 0.9090909090909091\n",
      "Accuracy: 0.890625\n",
      "\n",
      "For clf2 model:\n",
      "Confusion Matrix: \n",
      "[[40  4]\n",
      " [ 6 14]]\n",
      "Sensitivity: 0.7\n",
      "Specificity: 0.9090909090909091\n",
      "Accuracy: 0.84375\n"
     ]
    }
   ],
   "source": [
    "from sklearn.metrics import confusion_matrix, accuracy_score, recall_score, precision_score\n",
    "\n",
    "# Generate predictions\n",
    "y_pred_clf = clf.predict(X_test)\n",
    "y_pred_clf2 = clf2.predict(X_test)\n",
    "\n",
    "# Confusion matrix\n",
    "cm_clf = confusion_matrix(y_test, y_pred_clf)\n",
    "cm_clf2 = confusion_matrix(y_test, y_pred_clf2)\n",
    "\n",
    "# Sensitivity (Recall for positive class)\n",
    "sensitivity_clf = recall_score(y_test, y_pred_clf)\n",
    "sensitivity_clf2 = recall_score(y_test, y_pred_clf2)\n",
    "\n",
    "# Specificity (Recall for negative class)\n",
    "specificity_clf = recall_score(y_test, y_pred_clf, pos_label=0)\n",
    "specificity_clf2 = recall_score(y_test, y_pred_clf2, pos_label=0)\n",
    "\n",
    "# Accuracy\n",
    "accuracy_clf = accuracy_score(y_test, y_pred_clf)\n",
    "accuracy_clf2 = accuracy_score(y_test, y_pred_clf2)\n",
    "\n",
    "# Display results\n",
    "print(\"For clf model:\")\n",
    "print(f\"Confusion Matrix: \\n{cm_clf}\")\n",
    "print(f\"Sensitivity: {sensitivity_clf}\")\n",
    "print(f\"Specificity: {specificity_clf}\")\n",
    "print(f\"Accuracy: {accuracy_clf}\")\n",
    "\n",
    "print(\"\\nFor clf2 model:\")\n",
    "print(f\"Confusion Matrix: \\n{cm_clf2}\")\n",
    "print(f\"Sensitivity: {sensitivity_clf2}\")\n",
    "print(f\"Specificity: {specificity_clf2}\")\n",
    "print(f\"Accuracy: {accuracy_clf2}\")\n"
   ]
  },
  {
   "cell_type": "markdown",
   "id": "3bcbd12c",
   "metadata": {},
   "source": [
    "notes: (for sytudying purposes)\n",
    "\n",
    "-----------\n",
    "what is clf and clf2\n",
    "\n",
    "clf is the classifier that was trained using only the List Price variable as a feature to predict whether a book is hard cover or paperback.\n",
    "clf2 is the classifier that was trained using three variables (NumPages, Thick, and List Price) to predict the same outcome.\n",
    "\n",
    "-----------\n",
    "\n",
    "what is a \"positive\" and what is a \"negative\"\n",
    "\n",
    "how to read an sklearn confusion matrix\n",
    "\n",
    "what leads to TP, TN, FP, and FN\n",
    "\n",
    "whether y_true or y_pred go first in the confusion_matrix function\n",
    "\n",
    "------------------ \n",
    "\n",
    "In a confusion matrix:\n",
    "\n",
    "Positive (P): Refers to the class you are trying to predict (e.g., \"hardcover\" in your case).\n",
    "Negative (N): The opposite class (e.g., \"paperback\").\n",
    "True Positives (TP): Correctly predicted positives (hardcover books predicted as hardcover).\n",
    "True Negatives (TN): Correctly predicted negatives (paperback books predicted as paperback).\n",
    "False Positives (FP): Negative cases incorrectly predicted as positive (paperback predicted as hardcover).\n",
    "False Negatives (FN): Positive cases incorrectly predicted as negative (hardcover predicted as paperback).\n",
    "To use confusion_matrix in sklearn:\n",
    "\n",
    "confusion_matrix(y_true, y_pred)—y_true is the actual labels, and y_pred is the predicted labels."
   ]
  },
  {
   "cell_type": "markdown",
   "id": "72576c25",
   "metadata": {},
   "source": [
    "### 7. Explain in three to four sentences what is causing the differences between the following two confusion matrices below, and why the two confusion matrices above (for *clf* and *clf2*) are better<br>\n",
    "\n",
    "```python\n",
    "ConfusionMatrixDisplay(\n",
    "    confusion_matrix(ab_reduced_noNaN_train.your_actual_outcome_variable, \n",
    "                     clf.predict(ab_reduced_noNaN_train[['List Price']]), \n",
    "                     labels=[0, 1]), display_labels=[\"Paper\",\"Hard\"]).plot()\n",
    "ConfusionMatrixDisplay(\n",
    "    confusion_matrix(ab_reduced_noNaN_train.your_actual_outcome_variable, \n",
    "                     clf.predict(\n",
    "                         ab_reduced_noNaN_train[['NumPages','Thick','List Price']]), \n",
    "                     labels=[0, 1]), display_labels=[\"Paper\",\"Hard\"]).plot()\n",
    "```\n",
    "\n",
    "\n",
    "<details class=\"details-example\"><summary style=\"color:blue\"><u>Further Guidance</u></summary>\n",
    "    \n",
    "> _Don't forget to ask for summaries of all your different ChatBot sessions and organize and paste these into your homework notebook (including link(s) to chat log histories if you're using ChatBot); but, if you're using the STA130 custom NBLM ChatBot, you'll only be able to ask for summaries, of course!_ \n",
    "    \n",
    "</details>"
   ]
  },
  {
   "cell_type": "markdown",
   "id": "9d35f364",
   "metadata": {},
   "source": [
    "The differences between the two confusion matrices are likely due to the number of features used in the model. clf is trained with only the List Price, which might be a stronger predictor of the book's classification (hardcover or paperback) compared to the combination of NumPages, Thick, and List Price in clf2. The additional features in clf2 can introduce noise or lead to overfitting, decreasing its performance. The simpler models (clf and clf2) typically perform better on the test set when features are more relevant and not overly complex."
   ]
  },
  {
   "cell_type": "markdown",
   "id": "526939c2",
   "metadata": {},
   "source": [
    "\n",
    "### 8. Read the paragraphs in *Further Guidance* and ask a ChatBot how to visualize *feature Importances* available for *scikit-learn* *classification decision trees*; do so for *clf2*;  and use *.feature_names_in_* corresponding to *.feature_importances_* to report which *predictor variable* is most important for making predictions according to *clf2*<br>\n",
    "\n",
    "\n",
    "<details class=\"details-example\"><summary style=\"color:blue\"><u>Further Guidance</u></summary>\n",
    "  \n",
    "> The way a **classification decision tree** is fit is that at each step in the construction process of adding a new **decision node splitting rule** to the current **tree structure**, all possible **decision rules** for all possible **predictor variables** are considered, and the combination that improves the **prediction** the most (as measured by the criterion of either \"Gini impurity\" or \"Shannon entropy\") and in accordance with the rules of the decision tree (such as the `max_depth` argument) is added to the **classification decision tree**.  Thus overall \"criterion\" noted above improves with each new **decision node splitting rule**, so the improvement can thus be tracked and the improvement contributions attributed to the **feature** upon which the **decision node splitting rule** is based.  This means the relative contribution of each **predictor variable** to the overall explanatory power of the model can be calculated, and this is what the `.feature_importances_` attribute does. \n",
    ">\n",
    "> Compared to the simplicity of understanding how different **covariates** contribute towards the final **predicted values** of **multiple linear regression models** (by just reading off the equation to see how predictions work), the the complexity of how all the different **features** interact and combine to together to create the final **predictions** from **classification decision trees** can be staggering. But the so-called **feature importance** heuristics allows us to judge how relatively important the overall contributions from different features are in the final decision tree predictions. Now we just need to be sure we're not **overfitting** our **classification decision trees** since they can be so **complex**. Fortunately, the \"GridSearchCV\" methodology mentioned in regards to finding the best `max_depth` setting for a tree is going to provide a general answer to the challenge of complexity and **overfitting** in **machine learning models** that is not too hard to understand (and which you might already have some guesses or a hunch about). \n",
    "> \n",
    "> ---\n",
    "> \n",
    "> _Don't forget to ask for summaries of all your different ChatBot sessions and organize and paste these into your homework notebook (including link(s) to chat log histories if you're using ChatBot); but, if you're using the STA130 custom NBLM ChatBot, you'll only be able to ask for summaries, of course!_ \n",
    "       \n",
    "</details>"
   ]
  },
  {
   "cell_type": "code",
   "execution_count": 13,
   "id": "a5500964",
   "metadata": {},
   "outputs": [
    {
     "data": {
      "image/png": "[encoded data removed]",
      "text/plain": [
       "<Figure size 640x480 with 1 Axes>"
      ]
     },
     "metadata": {},
     "output_type": "display_data"
    },
    {
     "name": "stdout",
     "output_type": "stream",
     "text": [
      "The most important feature is: List Price\n"
     ]
    }
   ],
   "source": [
    "import matplotlib.pyplot as plt\n",
    "import numpy as np\n",
    "\n",
    "# Extract feature importances and feature names\n",
    "importances = clf2.feature_importances_\n",
    "features = clf2.feature_names_in_\n",
    "\n",
    "# Plot feature importances\n",
    "plt.barh(features, importances)\n",
    "plt.xlabel(\"Feature Importance\")\n",
    "plt.ylabel(\"Feature\")\n",
    "plt.title(\"Feature Importance for clf2\")\n",
    "plt.show()\n",
    "\n",
    "# Find the most important feature\n",
    "most_important_feature = features[np.argmax(importances)]\n",
    "print(f\"The most important feature is: {most_important_feature}\")\n"
   ]
  },
  {
   "cell_type": "code",
   "execution_count": 15,
   "id": "5b356789",
   "metadata": {},
   "outputs": [
    {
     "name": "stdout",
     "output_type": "stream",
     "text": [
      "[1.]\n"
     ]
    }
   ],
   "source": [
    "print(clf2.feature_importances_)\n"
   ]
  },
  {
   "cell_type": "markdown",
   "id": "f5fbe36b",
   "metadata": {},
   "source": [
    "typically speaking, all features should show in the feature importance visualization if they contribute to the model. If only \"List Price\" is shown, it suggests that this feature has a dominant influence on the splits in the decision tree. (ie. clf2.feature)importances_ is 1.) The other features may not have been selected for splitting due to their relative lack of contribution under the specified parameters (e.g., max_depth=4)."
   ]
  },
  {
   "cell_type": "markdown",
   "id": "8d32438b",
   "metadata": {},
   "source": [
    "\n",
    "notes (studying purpsoes)\n",
    "\n",
    "keytake aways:\n",
    "- each predictor variable to the overall explanatory power of the (classification decision tree) model can be calculated. may overfit -> use max_depth \n",
    "- multiple linear regresison is much more ssimplier to understand when it comes to how different covariates contribute towards the final predicted values"
   ]
  },
  {
   "cell_type": "markdown",
   "id": "3eb7d92c",
   "metadata": {},
   "source": [
    "### 9. Describe the differences of interpreting coefficients in linear model regression versus feature importances in decision trees in two to three sentences<br>\n",
    "\n",
    "<details class=\"details-example\"><summary style=\"color:blue\"><u>Further Guidance</u></summary>\n",
    "\n",
    "> _Linear model regression predicts continuous real-valued averages for a given configuration of covariate values (or, feature values, if we're using machine learning terminology instead of statistical terminology), whereas a binary classification model such as a binary classification tree predicts 0/1 (\"yes\" or \"no\") outcomes (and gives the probability of a 1 \"yes\" (or \"success\") outcome from which a 1/0 \"yes\"/\"no\" prediction can be made; but, this is not what is being asked here. This question is asking \"what's the difference in the way we can interpret and understand how the predictor variables influence the predictions in linear model regression based on the coefficients versus in binary decision trees based on the Feature Importances?\"_\n",
    ">    \n",
    "> ---\n",
    "> \n",
    "> _Don't forget to ask for summaries of all your different ChatBot sessions and organize and paste these into your homework notebook (including link(s) to chat log histories if you're using ChatBot); but, if you're using the STA130 custom NBLM ChatBot, you'll only be able to ask for summaries, of course!_ \n",
    "    \n",
    "</details>"
   ]
  },
  {
   "cell_type": "markdown",
   "id": "ac98dfa3",
   "metadata": {},
   "source": [
    "In linear regression, coefficients represent the direct impact of each feature on the continuous target variable, with their sign indicating whether the relationship is positive or negative, and their magnitude reflecting the strength of the effect. In contrast, decision trees calculate feature importance based on how much each feature contributes to improving model accuracy, considering splits at decision nodes. Unlike linear regression coefficients, feature importances don't offer a direct quantifiable relationship but indicate the relative relevance of each feature in making predictions. (ie. In linear regression, coefficients represent the direct, quantitative relationship between each predictor variable and the outcome variable, indicating how much the outcome changes with each unit increase in the predictor.  In contrast, feature importances in decision trees indicate the relative significance of each predictor in making accurate classifications, but do not provide a direct, quantifiable relationship. Feature importances help prioritize which variables are most influential in the model's decision-making process, but the exact impact is harder to interpret compared to linear regression coefficients.)\n"
   ]
  },
  {
   "cell_type": "markdown",
   "id": "d2436778",
   "metadata": {},
   "source": [
    "# Recommended Additional Useful Activities [Optional]\n",
    "\n",
    "The \"Ethical Profesionalism Considerations\" and \"Current Course Project Capability Level\" sections below **are not a part of the required homework assignment**; rather, they are regular weekly guides covering (a) relevant considerations regarding professional and ethical conduct, and (b) the analysis steps for the STA130 course project that are feasible at the current stage of the course \n",
    "\n",
    "<br>\n",
    "<details class=\"details-example\"><summary style=\"color:blue\"><u>Ethical Professionalism Considerations</u></summary>\n",
    "\n",
    "### Ethical Professionalism Considerations\n",
    "\n",
    "- Discuss with a ChatBox about consent and data collection for training models.\n",
    "    - Discuss the ethics of data collection for training decision trees, particularly the need for informed consent when personal data is involved.\n",
    "    - Evaluate the role of regulatory frameworks in ensuring ethical data collection practices.\n",
    "- Discuss with a ChatBox about accountability in automated decision-making.\n",
    "    - Address the challenges of holding systems and their developers accountable when decision trees lead to adverse outcomes.\n",
    "    - Explore legal and ethical frameworks for responsibility when automated decisions go wrong.\n",
    "- Discuss with a ChatBox about transparency and explainability in classification models.\n",
    "    - Discuss the importance of model transparency, particularly when using decision trees in sectors like healthcare or criminal justice.\n",
    "    - Explore methods to enhance the explainability of decision trees, such as visualization techniques and simplified decision paths.\n",
    "- Discuss with a ChatBox about impact of misclassifications in critical applications.\n",
    "    - Examine the consequences of false positives and false negatives in decision tree outcomes, using confusion matrices to highlight these issues.\n",
    "    - Discuss ethical responsibilities when deploying classifiers in high-stakes fields like medicine or law enforcement.\n",
    "    \n",
    "</details>    \n",
    "\n",
    "<details class=\"details-example\"><summary style=\"color:blue\"><u>Current Course Project Capability Level</u></summary>\n",
    "\n",
    "**Remember to abide by the [data use agreement](https://static1.squarespace.com/static/60283c2e174c122f8ebe0f39/t/6239c284d610f76fed5a2e69/1647952517436/Data+Use+Agreement+for+the+Canadian+Social+Connection+Survey.pdf) at all times.**\n",
    "\n",
    "Information about the course project is available on the course github repo [here](https://github.com/pointOfive/stat130chat130/tree/main/CP), including a draft [course project specfication](https://github.com/pointOfive/stat130chat130/blob/main/CP/STA130F23_course_project_specification.ipynb) (subject to change). \n",
    "- The Week 01 HW introduced [STA130F24_CourseProject.ipynb](https://github.com/pointOfive/stat130chat130/blob/main/CP/STA130F24_CourseProject.ipynb), and the [available variables](https://drive.google.com/file/d/1ISVymGn-WR1lcRs4psIym2N3or5onNBi/view). \n",
    "- Please do not download the [data](https://drive.google.com/file/d/1mbUQlMTrNYA7Ly5eImVRBn16Ehy9Lggo/view) accessible at the bottom of the [CSCS](https://casch.org/cscs) webpage (or the course github repo) multiple times.\n",
    "    \n",
    "\n",
    "> ### NEW DEVELOPMENT<br>New Abilities Achieved and New Levels Unlocked!!!    \n",
    "> \n",
    "> And with that, ALL LEVELS unlocked! \n",
    ">\n",
    "> CONGRATS, YOU LEGENDS! 🎉\n",
    ">\n",
    "> You’ve battled through the wild jungles of deadlines, defeated the mighty Homework Beasts, and climbed the towering Mount Procrastination. And guess what? YOU MADE IT TO THE TOP! 🏔️\n",
    "> \n",
    "> Take a bow, grab a treat, and enjoy the sweet, sweet taste of freedom(**just for now , because you still have to finish the project! But you are almost done!**). You’ve earned it. Now go out there and celebrate like the absolute rockstars you are! 🌟💪\n",
    ">\n",
    "\n",
    "    \n",
    "### Current Course Project Capability Level    \n",
    "    \n",
    "I mean, the **course project** is basically, like, essentially now.\n",
    "    \n",
    "- Will you be doing any **classification decision trees** stuff for the course project?\n",
    "    - You could consider making some [partial dependency plots](https://scikit-learn.org/stable/modules/partial_dependence.html) if so...\n",
    "    - those might provide an interesting analysis in addition to **tree structure** visualizations, **confusion matrices**, **feature importances**. and the standard \"in-sample versus out-of-sample\" **train-test validation** analysis that would be expected in a **machine learning context**\n",
    "    \n",
    "- You could see if there are any interesting columns that might make for a potentially interesting **classification decision tree** analysis\n",
    "    - You wouldn't have to though...\n",
    "    - But if you did you'd want to be able to articulate and explain why what you're doing with **classification decision trees** is appropriate and enlightening\n",
    "\n",
    "- Anyway, I guess that just leaves reviewing all the statistical techniques covered in STA130, and considering integrating them holistically into your project!\n",
    "    \n",
    "</details>        "
   ]
  },
  {
   "cell_type": "markdown",
   "id": "684a5f65",
   "metadata": {},
   "source": [
    "yes"
   ]
  },
  {
   "cell_type": "code",
   "execution_count": null,
   "id": "29370abf",
   "metadata": {},
   "outputs": [],
   "source": []
  }
 ],
 "metadata": {
  "kernelspec": {
   "display_name": "Python 3 (ipykernel)",
   "language": "python",
   "name": "python3"
  },
  "language_info": {
   "codemirror_mode": {
    "name": "ipython",
    "version": 3
   },
   "file_extension": ".py",
   "mimetype": "text/x-python",
   "name": "python",
   "nbconvert_exporter": "python",
   "pygments_lexer": "ipython3",
   "version": "3.11.6"
  }
 },
 "nbformat": 4,
 "nbformat_minor": 5
}
