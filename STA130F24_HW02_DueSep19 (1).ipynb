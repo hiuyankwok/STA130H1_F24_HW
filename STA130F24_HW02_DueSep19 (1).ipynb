{
 "cells": [
  {
   "cell_type": "markdown",
   "id": "14b74968",
   "metadata": {},
   "source": [
    "## STA130 Homework 02\n",
    "\n",
    "Please see the course [wiki-textbook](https://github.com/pointOfive/stat130chat130/wiki) for the list of topics covered in this homework assignment, and a list of topics that might appear during ChatBot conversations which are \"out of scope\" for the purposes of this homework assignment (and hence can be safely ignored if encountered)"
   ]
  },
  {
   "cell_type": "markdown",
   "id": "f014006ff8809433",
   "metadata": {},
   "source": [
    "<details class=\"details-example\"><summary style=\"color:blue\"><u>Introduction</u></summary>\n",
    "\n",
    "### Introduction\n",
    "    \n",
    "A reasonable characterization of STA130 Homework is that it simply defines a weekly reading comprehension assignment. \n",
    "Indeed, STA130 Homework essentially boils down to completing various understanding confirmation exercises oriented around coding and writing tasks.\n",
    "However, rather than reading a textbook, STA130 Homework is based on ChatBots so students can interactively follow up to clarify questions or confusion that they may still have regarding learning objective assignments.\n",
    "\n",
    "> Communication is a fundamental skill underlying statistics and data science, so STA130 Homework based on ChatBots helps practice effective two-way communication as part of a \"realistic\" dialogue activity supporting underlying conceptual understanding building. \n",
    "\n",
    "It will likely become increasingly tempting to rely on ChatBots to \"do the work for you\". But when you find yourself frustrated with a ChatBots inability to give you the results you're looking for, this is a \"hint\" that you've become overreliant on the ChatBots. Your objective should not be to have ChatBots \"do the work for you\", but to use ChatBots to help you build your understanding so you can efficiently leverage ChatBots (and other resources) to help you work more efficiently.<br><br>\n",
    "\n",
    "</details>\n",
    "\n",
    "<details class=\"details-example\"><summary style=\"color:blue\"><u>Instructions</u></summary>\n",
    "\n",
    "### Instructions\n",
    "    \n",
    "1. Code and write all your answers (for both the \"Prelecture\" and \"Postlecture\" HW) in a python notebook (in code and markdown cells) \n",
    "    \n",
    "> It is *suggested but not mandatory* that you complete the \"Prelecture\" HW prior to the Monday LEC since (a) all HW is due at the same time; but, (b) completing some of the HW early will mean better readiness for LEC and less of a \"procrastentation cruch\" towards the end of the week...\n",
    "    \n",
    "2. Paste summaries of your ChatBot sessions (including link(s) to chat log histories if you're using ChatGPT) within your notebook\n",
    "    \n",
    "> Create summaries of your ChatBot sessions by using concluding prompts such as \"Please provide a summary of our exchanges here so I can submit them as a record of our interactions as part of a homework assignment\" or, \"Please provide me with the final working verson of the code that we created together\"\n",
    "    \n",
    "3. Save your python jupyter notebook in your own account and \"repo\" on [github.com](github.com) and submit a link to that notebook though Quercus for assignment marking<br><br>\n",
    "\n",
    "</details>\n",
    "\n",
    "<details class=\"details-example\"><summary style=\"color:blue\"><u>Prompt Engineering?</u></summary>\n",
    "    \n",
    "### Prompt Engineering? \n",
    "    \n",
    "The questions (as copy-pasted prompts) are designed to initialize appropriate ChatBot conversations which can be explored in the manner of an interactive and dynamic textbook; but, it is nonetheless **strongly recommendated** that your rephrase the questions in a way that you find natural to ensure a clear understanding of the question. Given sensible prompts the represent a question well, the two primary challenges observed to arise from ChatBots are \n",
    "\n",
    "1. conversations going beyond the intended scope of the material addressed by the question; and, \n",
    "2. unrecoverable confusion as a result of sequential layers logial inquiry that cannot be resolved. \n",
    "\n",
    "In the case of the former (1), adding constraints specifying the limits of considerations of interest tends to be helpful; whereas, the latter (2) is often the result of initial prompting that leads to poor developments in navigating the material, which are likely just best resolve by a \"hard reset\" with a new initial approach to prompting.  Indeed, this is exactly the behavior [hardcoded into copilot](https://answers.microsoft.com/en-us/bing/forum/all/is-this-even-normal/0b6dcab3-7d6c-4373-8efe-d74158af3c00)...\n",
    "\n",
    "</details>"
   ]
  },
  {
   "cell_type": "markdown",
   "id": "161fd459",
   "metadata": {},
   "source": [
    "\n",
    "### Marking Rubric (which may award partial credit) \n",
    "\n",
    "- [0.1 points]: All relevant ChatBot summaries [including link(s) to chat log histories if you're using ChatGPT] are reported within the notebook\n",
    "- [0.3 points]: Assignment completion confirmed by working \"final\" code and ChatBot summaries for \"3\"\n",
    "- [0.3 points]: Written submission evaluation and enagement confirmation with ChatBot summaries for \"6\"\n",
    "- [0.3 points]: Evaluation of engagement and evaluation of written communication in \"7\"\n",
    "        "
   ]
  },
  {
   "cell_type": "markdown",
   "id": "f7ff3f55",
   "metadata": {},
   "source": [
    "### \"Pre-lecture\" HW [*completion prior to next LEC is suggested but not mandatory*]"
   ]
  },
  {
   "cell_type": "markdown",
   "id": "fda8568b",
   "metadata": {},
   "source": [
    "#### 1. Begin (or restart) part \"3(a)\" of the **TUT Demo** and interact with a ChatBot to make sure you understand how each part the Monte Hall problem code above works<br>\n",
    "\n",
    "<details class=\"details-example\"><summary style=\"color:blue\"><u>Further Guidance</u></summary>\n",
    "    \n",
    "> _ChatBots typically explain code fairly effectively, so a ChatBot will probably be very helpful if you share the full Monte Hall problem code; but, you can always introduce more specific and targetted follow-up prompts that help with focus, re-redirection, and response format regarding the ChatBot responses as needed._ \n",
    ">\n",
    "> _ChatBots won't always re-introduce and re-explain the Monte Hall problem itself, so if you need it to do so you may need to specifically request this as part of your prompt or follow up interactions._\n",
    "\n",
    "</details>\n"
   ]
  },
  {
   "cell_type": "markdown",
   "id": "019e74a4",
   "metadata": {},
   "source": [
    "https://chatgpt.com/share/66ea1d7b-9a4c-8005-84f3-0e7d4122315a\n",
    "    for questions 1-3\n",
    "    \n",
    "Here’s a summary of our conversation:\n",
    "\n",
    "Monty Hall Problem Explanation:\n",
    "\n",
    "You asked about the Monty Hall problem, a probability puzzle where switching doors increases the chance of winning from 1/3 to 2/3.\n",
    "Code Explanation:\n",
    "\n",
    "You provided a Monte Carlo simulation code for the Monty Hall problem, and I walked through each line, explaining the key steps like selecting the winning door, the player's initial choice, Monty's door reveal, and the player's switch.\n",
    "Code Simplification:\n",
    "\n",
    "I simplified the code to make it clearer and easier to follow. The streamlined version separates each step logically, uses list comprehensions, and eliminates unnecessary complexity.\n",
    "List Comprehension (for and in):\n",
    "\n",
    "I explained the for and in in the list comprehension used in the code, which filters out doors that Monty can reveal (those that aren't the player's choice or the winning door).\n",
    "Would you like any further clarifications or help with anything else?"
   ]
  },
  {
   "cell_type": "markdown",
   "id": "11581881",
   "metadata": {},
   "source": [
    "#### 2. Extend your ChatBot sessions to now address part \"3(b)\" of the **TUT Demo** and interact with your ChatBot to see if it can suggest a simpler, more streamlined way to code up this *for* loop simulation so the process is more clear and easier to understand; then, describe any preferences you have in terms of readibility or explainability  between the original code and the code improvements suggested by the ChatBot<br>\n",
    "\n",
    "<details class=\"details-example\"><summary style=\"color:blue\"><u>Further Guidance</u></summary>\n",
    "    \n",
    "> _The links in the TUT Demo show that there can be variation in the quality of the code improvements suggested by ChatBots; however, it's most likely that a ChatBot is going to be able to greatly reduce the number of steps/lines of code and hence complexity of understanding the problem. ChatBots can provide a good amount of explanation and inline clarifying code comments and provide more simpler more intuitive code that can transform something that looks a bit scary at first to something that's easy to follow and make sense of. Of course, in doing so, a ChatBot may introduce functions that you've technically not learned or seen before; but, the amount of simplification and clarifying comments is probably going to more than compensate for this; and, you'll have seen a learned a little bit more about what's possible through this process, which is the ideal experience we're hoping you'll see here._ \n",
    "    \n",
    "</details>\n",
    "        "
   ]
  },
  {
   "cell_type": "code",
   "execution_count": 1,
   "id": "06d74235",
   "metadata": {},
   "outputs": [
    {
     "name": "stdout",
     "output_type": "stream",
     "text": [
      "0.66553\n"
     ]
    }
   ],
   "source": [
    "#original code\n",
    "import numpy as np\n",
    "all_door_options = (1,2,3)  # tuple\n",
    "my_door_choice = 1  \n",
    "i_won = 0\n",
    "reps = 100000\n",
    "for i in range(reps): # iterate the simulation for 100000 times\n",
    "    secret_winning_door = np.random.choice(all_door_options) # door 3\n",
    "    all_door_options_list = list(all_door_options) # tuple does not support mutability [1, 2, 3]\n",
    "    \n",
    "    # take the secret_winning_door, so we don't show it as a \"goat\" losing door\n",
    "    all_door_options_list.remove(secret_winning_door) # [1, 2]\n",
    "    try:\n",
    "        # if my_door_choice was secret_winning_door then it's already removed\n",
    "        all_door_options_list.remove(my_door_choice)  # [2]\n",
    "    except:\n",
    "        pass\n",
    "    \n",
    "    # show a \"goat\" losing door and remove it\n",
    "    goat_door_reveal = np.random.choice(all_door_options_list) # 2\n",
    "    all_door_options_list.remove(goat_door_reveal) # []\n",
    "\n",
    "    # put the secret_winning_door back in if it wasn't our choice\n",
    "    # we previously removed it, so it would be shown as a  \"goat\" losing door\n",
    "    if secret_winning_door != my_door_choice:\n",
    "        all_door_options_list.append(secret_winning_door) # [3]\n",
    "    # if secret_winning_door was our choice then all that's left in the list is a \"goat\" losing door\n",
    "    # if secret_winning_door wasn't our choice then it's all that will be left in the list\n",
    "\n",
    "    # swap strategy\n",
    "    #all_door_options_list will only contain one door left (player's new choice after they switch)\n",
    "    my_door_choice = all_door_options_list[0] # 3\n",
    "\n",
    "    if my_door_choice == secret_winning_door:\n",
    "        i_won += 1\n",
    "\n",
    "print(i_won/reps)\n"
   ]
  },
  {
   "cell_type": "code",
   "execution_count": 2,
   "id": "02aeea85",
   "metadata": {},
   "outputs": [
    {
     "name": "stdout",
     "output_type": "stream",
     "text": [
      "0.66874\n"
     ]
    }
   ],
   "source": [
    "#chatbot created code (simplified):\n",
    "import numpy as np\n",
    "\n",
    "# Constants\n",
    "NUM_TRIALS = 100000\n",
    "DOORS = [1, 2, 3]\n",
    "\n",
    "# Initialize counters\n",
    "wins_by_switching = 0\n",
    "\n",
    "for _ in range(NUM_TRIALS):\n",
    "    # Step 1: Randomly select the winning door\n",
    "    winning_door = np.random.choice(DOORS)\n",
    "    \n",
    "    # Step 2: Player initially picks a door\n",
    "    initial_choice = 1  # The player always picks door 1\n",
    "\n",
    "    # Step 3: Determine which door Monty will open\n",
    "    # further explanation: \n",
    "    # 1. door for door in DOORS:  iterates over each element in the DOORS list. Here, door is a temporary variable that takes each value from DOORS one by one.\n",
    "    # 2. if door!= initial_choice and door!= winning_door: a filter condition. It specifies that only the doors which are not the initial_choice and not the winning_door should be included in the new list.\n",
    "    # 2. door != initial_choice: Ensures that the door is not the one initially chosen by the player. In this code, the player always initially picks door 1, so this condition excludes door 1.\n",
    "    # 2. door != winning_door: Ensures that the door is not the winning door. Monty reveals a door with a goat, so this condition excludes the door with the car.\n",
    "    remaining_doors = [door for door in DOORS if door != initial_choice and door != winning_door]\n",
    "    monty_opens = np.random.choice(remaining_doors)\n",
    "    \n",
    "    # Step 4: Determine the door to switch to\n",
    "    remaining_doors = [door for door in DOORS if door != initial_choice and door != monty_opens]\n",
    "    switch_choice = remaining_doors[0]\n",
    "    \n",
    "    # Step 5: Check if switching wins the car\n",
    "    if switch_choice == winning_door:\n",
    "        wins_by_switching += 1\n",
    "\n",
    "# Print the proportion of wins when switching\n",
    "print(wins_by_switching / NUM_TRIALS)\n"
   ]
  },
  {
   "cell_type": "markdown",
   "id": "8c1d9753",
   "metadata": {},
   "source": [
    "comparison:\n",
    "The simplified version has less steps and very clearly outlined each step in a logical order, from the set up to picking a random door to the calculations of the probability of winning. It has less excess list manipulation (such as using .append or .remove), and avoids using the try and except code, which makes it much more readible. The original code also uses a tuple and then converts it into a list, which is unnecessary. "
   ]
  },
  {
   "cell_type": "markdown",
   "id": "f3fdebd8",
   "metadata": {},
   "source": [
    "#### 3. Submit your preferred version of the Monty Hall problem that is verified to be running and working with a final printed output of the code; then, add code comments explaining the purpose of each line of the code<br>\n",
    "\n",
    "<details class=\"details-example\"><summary style=\"color:blue\"><u>Further Guidance</u></summary>\n",
    "    \n",
    "> _Your ChatBot will likely do much of this for you, but verify for yourself that you understand each comment and reword comments wherever you think it would be better to explain it differently._\n",
    ">\n",
    "> _Remember to ask for summaries of your current session and paste these into your homework notebook  (including link(s) to chat log histories if you're using ChatGPT)_\n",
    "\n",
    "</details>\n",
    " "
   ]
  },
  {
   "cell_type": "markdown",
   "id": "d0bd202b",
   "metadata": {},
   "source": [
    "[answered above, under question 2]"
   ]
  },
  {
   "cell_type": "markdown",
   "id": "8ba3ff01",
   "metadata": {},
   "source": [
    "#### 4. Watch the embedded video tutorial on Markov chains in the next Jupyter cell below to understand their application and relevance for ChatBots; then, after watching the video, start a new ChatBot session by prompting that you have code that creates a \"Markovian ChatBot\"; show it the first version of the \"Markovian ChatBot code\" below; and interact with the ChatBot session to make sure you understand how the original first version of the \"Markovian ChatBot code\" works<br>\n",
    "\n",
    "<details class=\"details-example\"><summary style=\"color:blue\"><u>Further Guidance</u></summary>\n",
    "\n",
    "> _If the ChatBot prompts you as to how you will \"train\" your own \"Markovian ChatBot\" you can reply that you'll just use a series of stories with a lot of different characters_\n",
    "> \n",
    "> _Ask for summaries of this second ChatBot session and paste these into your homework notebook (including link(s) to chat log histories if you're using ChatGPT)_\n",
    "    \n",
    "</details>\n",
    "    "
   ]
  },
  {
   "cell_type": "code",
   "execution_count": 2,
   "id": "a52754504a625b36",
   "metadata": {},
   "outputs": [
    {
     "data": {
      "image/jpeg": "[encoded data removed]",
      "text/html": [
       "\n",
       "        <iframe\n",
       "            width=\"550\"\n",
       "            height=\"300\"\n",
       "            src=\"https://www.youtube.com/embed/56mGTszb_iM\"\n",
       "            frameborder=\"0\"\n",
       "            allowfullscreen\n",
       "            \n",
       "        ></iframe>\n",
       "        "
      ],
      "text/plain": [
       "<IPython.lib.display.YouTubeVideo at 0x7f215021e210>"
      ]
     },
     "execution_count": 2,
     "metadata": {},
     "output_type": "execute_result"
    }
   ],
   "source": [
    "# Markov Chains and Text Generation\n",
    "from IPython.display import YouTubeVideo\n",
    "YouTubeVideo('56mGTszb_iM', width = 550)"
   ]
  },
  {
   "cell_type": "markdown",
   "id": "7a17e608",
   "metadata": {},
   "source": [
    "<details class=\"details-example\"><summary style=\"color:blue\"><u>Continue now...?</u></summary>\n",
    "\n",
    "### Pre-lecture VS Post-lecture HW\n",
    "\n",
    "Feel free to work on the \"Post-lecture\" HW below if you're making good progress and want to continue: for **HW 02** continuing could be reasonable because questions \"5-7\" below directly follow up and extend \"Pre-lecture\" HW question \"4\"\n",
    "\n",
    "*The benefits of continue would are that (a) it might be fun to try to tackle the challenge of working through some problems without additional preparation or guidance; and (b) this is a very valable skill to be comfortable with; and (c) it will let you build experience interacting with ChatBots (and beginning to understand their strengths and limitations in this regard)... it's good to have sense of when using a ChatBot is the best way to figure something out, or if another approach (such as course provided resources or a plain old websearch for the right resourse) would be more effective*\n",
    "    \n",
    "</details>    "
   ]
  },
  {
   "cell_type": "markdown",
   "id": "d6ae0a64",
   "metadata": {},
   "source": [
    "### \"Post-lecture\" HW [*submission along with \"Pre-lecture\" HW is due prior to next TUT*]"
   ]
  },
  {
   "cell_type": "markdown",
   "id": "a3979c94",
   "metadata": {},
   "source": [
    "#### 5. Recreate (or resume) the previous ChatBot session from question \"4\" above, and now  prompt the ChatBot session that you have a couple extensions of the code to show it, and then show it each of the extentions of the \"Markovian ChatBot code\" below in turn\n",
    "\n",
    "\n",
    "\n",
    "1. Without just supplying your ChatBot session with the answers, see if the ChatBot can figure out what the extensions in the code do; namely, making character specific Markov chains, and using bigrams (rather than just the previous word alone) dependency... prompt your ChatBot session with some hints if it's not seeming to \"get it\"<br><br>\n",
    "    \n",
    "2. Interact with your ChatBot session to have it explain details of the code wherever you need help understanding what the code is doing and how it works<br><br>\n",
    "\n",
    "chatbot conversation: https://chatgpt.com/share/66eb2c9f-2dd0-8005-b39c-96dce4857367\n",
    "\n",
    "summary: Here’s a summary of our conversation:\n",
    "\n",
    "1. Markovian Chatbot Code\n",
    "Basic Markov Chain:\n",
    "The initial code creates a basic Markov chain model where the chatbot predicts the next word based on the previous word.\n",
    "Bigrams Extension:\n",
    "An extension was introduced to use bigrams (pairs of consecutive words) for more contextually accurate predictions. This method tracks transitions based on two consecutive words instead of just one.\n",
    "2. Function Explanations\n",
    "enumerate():\n",
    "A function that adds a counter to an iterable and returns it as an enumerate object, which yields pairs of index and value.\n",
    "defaultdict:\n",
    "A type of dictionary from the collections module that provides a default value for missing keys, which simplifies managing missing keys in nested structures.\n",
    "lambda Function:\n",
    "A small anonymous function defined with the lambda keyword, used for short, single-expression operations.\n",
    "3. Character-Specific Markov Chains\n",
    "Character-Specific Chains:\n",
    "A method to create Markov chains specific to each character, allowing for dialogue generation that mimics different characters' speech patterns.\n",
    "4. Markovian Chatbot Extension #1\n",
    "Second-Order Markov Chain:\n",
    "An extension that tracks bigrams and the words that follow them, creating a more nuanced model by considering pairs of words.\n",
    "5. Markovian Chatbot Extension #2\n",
    "Character-Specific and Nested Structures:\n",
    "A more advanced extension that incorporates character-specific dialogue tracking using deeply nested dictionaries. This includes:\n",
    "characters Counter: Counts occurrences of formatted character names.\n",
    "nested_dict: A recursive function to create deeply nested dictionaries using defaultdict.\n",
    "Data Structure: Tracks bigram counts and subsequent word frequencies for each character in the dialogue.\n",
    "6. Lambda Function\n",
    "Definition:\n",
    "An anonymous function defined using lambda, used for short, one-line operations.\n",
    "Example:\n",
    "In the context of nested_dict = lambda: defaultdict(nested_dict), it creates a deeply nested dictionary structure by defining a recursive defaultdict.\n",
    "Let me know if you need any more details or further clarification on any of these points!"
   ]
  },
  {
   "cell_type": "markdown",
   "id": "d8b44410",
   "metadata": {},
   "source": [
    "    \n",
    "3. Start yet another new ChatBot session and first show the ChatBot the original \"Markovian ChatBot code\" below, and then tell ChatBot that you have an extension but this time just directly provide it the more complicated final extension without ever providing the intermediate extension code to the ChatBot session and see if it's still able to understand everything extension does; namely, making character specific Markov chains, and using bigrams (rather than just the previous word alone) dependency... prompt the ChatBot with some hints if it's not seeming to understand what you're getting at...<br><br>\n",
    "    \n",
    "<details class=\"details-example\"><summary style=\"color:blue\"><u>Further Guidance</u></summary>\n",
    "\n",
    "> **ALERT: Time Warning**. Regarding the comments below (which will likely be relevant and useful for you), you might find the potential learning experience that this provides to be a quite the rabbit total rabbit hole and time sink. You might end up finding out that you spent way more time than I should on learning the code!! So be mindful of your time management as there is much to do for many classes!\n",
    ">    \n",
    "> _As you may or may not have already experienced in the previous problem, a ChatBot applied to this problem is likely to start explaining a bit more knowledge about Python than you need to know (as a student just trying to learn stats+DS); however, you'll probably feel like this \"out of scope\" context information is helpful to know (or at least be aware of) and easy to understand and learn if you use some addtional prompts to dig deeper into them. A ChatBot will be quite good at explaining and helping understand smaller chunks of code; however, if given too much information at once it can gloss over some information._\n",
    ">   \n",
    "> _That said, some topics here are potentially quite and advanced and too tricky! You might be able to ask the ChatBot to simplify its explanations and that might help a bit. But on the other hand, some topics, such as, \"how does `nested_dict = lambda: defaultdict(nested_dict)` work?\" might just simply be too advanced to really admit a simpler explanation via a ChatBot. You'll have to let these sorts of things go, if you come across explanations that just aren't improving or helping at at. In the case of `defaultdict(nested_dict)` specifically, the details here are well beyond the scope of STA130 and can be very safely ignored for now. The code will have reviewed and \"walked thorugh\" in LEC, but the perspectives espoused there will be the extent of the formal commentary and information regarding the coding topics we encounter in the Markov ChatBots code here._\n",
    ">     \n",
    "> _Unlike with the Monte Hall problem, we will not inquire with the ChatBot to see if it can suggest any streamlining, readability, or usability improvements to the alternative versions of the \"Markovian ChatBot code\" we're examining_\n",
    ">     \n",
    "> - _because doing so seems to result in the attempted creation of dubiously functional modular code with a focus on reusability (which is likely a result of ChatBot design being primarily a \"computer science\" topic), so ChatBot reponses here tend to orient around programming and system design principles (despite \"Markovian\" very much being a \"statistics\" topic)_\n",
    ">     \n",
    "> _Programming and system design principles are beyond the scope of STA130; but, they are critical for modern data science careers... if you are interested in pursuing a data science career, it is imperitive that you complete courses like CSC263, CSC373, and perhaps an additional \"systems design\" course_\n",
    "> \n",
    "> ---\n",
    "> \n",
    "> _Don't forget to ask for summaries of all your different ChatBot sessions and organize and paste these into your homework notebook (including link(s) to chat log histories if you're using ChatBot)_\n",
    "    \n",
    "</details>\n",
    "     "
   ]
  },
  {
   "cell_type": "markdown",
   "id": "e6b7b324",
   "metadata": {},
   "source": [
    "The new chatbot session was not as detailed in terms of explanation compared to the previous one. When I asked it to explain each line of code and what they do, the new chatbot only provided a rough idea of the code's purpose and the function(s) used. For example, for the line characters = Counter(\"\\n\" + avatar.character.str.upper().str.replace(' ', '.') + \":\"), the previous chatbot broke it down into several sections to explain every fragment of the code, while the new one simply explained that it counts occurrences of character dialogues from the avatar dataset. \n",
    "Generally speaking, both chatbots are able to understand what the extensions are doing, as well as the purposes of each. The latter was also able to identify that it is a character-based markovian chatbot (without the intermediate code) and provided refinements. \n",
    "\n",
    "chatbot link: https://chatgpt.com/share/66eb3539-5c44-8005-8b7d-485d0a394fdc\n",
    "\n",
    "Summary:\n",
    "Here's a summary of our conversation:\n",
    "\n",
    "Markovian Chatbot Code: You shared an initial version of code for a Markovian chatbot. This version tracked word usage and word transitions using dictionaries to create a simple Markov model.\n",
    "\n",
    "Enhanced Version: You provided an updated version with extensions that included character-based context from a dataset. This version used nested dictionaries to handle word pairs and transitions specific to different characters.\n",
    "\n",
    "Explanation of Code: I explained each line of the updated code in detail, including how it handles character-specific dialogue, updates word pair frequencies, and generates sentences based on the learned patterns.\n",
    "\n",
    "If you need further clarification or have more questions about the code or related concepts, feel free to ask!\n",
    "\n",
    "\n",
    "\n",
    "\n"
   ]
  },
  {
   "cell_type": "markdown",
   "id": "116f0a96",
   "metadata": {},
   "source": [
    "#### 6. Report on your experience interacting with ChatBots to understand the Monte Hall problem and \"Markovian ChatBot\" code\n",
    "\n",
    "1. Discuss how quickly the ChatBot was able to be helpful for each of the above questions, and if so, how?<br><br>\n",
    "\n",
    "The Chatbot was pretty fast to be helpful. Whenever I asked a question or copy & pasted the markovian code into the chat, the chatbot immediately provides a full run-down on the code, including the purpose, context, description, and breakdown of the code, as well as examples and provided refinement recommendations without needing any further requests. When I pressed on for more explanations, it very clearly broke the code down, line by line, fragment by fragment, and explained how each of the functions or extensions are used. \n",
    "    \n",
    "2. Discuss whether or not interacting with ChatBot to try to figure things out was frustrating or unhelpful, and if so, how?<br><br>\n",
    "\n",
    "I think using chatbots are extremely helpful since its answers are always very specific and tailored to my situation/questions. If chatbots were not a thing, I would definitely have really struggled using searching engines and would probably take years of studying & knowledge to reach a level that'd allow me to understand. \n",
    "    \n",
    "3. Based on your experiences to date (e.g., including using ChatBots to troubleshoot coding errors in the previous homework), provide an overall assessment evaluating the usefulness of ChatBots as tools to help you understand code<br>\n",
    "\n",
    "I will give the chatbots a 10/10 as a learning tool. As mentioned previously, I think chatbots are probably the most useful tool out there for learning coding. As a beginner, it was able to guide me on a lot of this course content. It also lays out the code in a black box, which increases its readibility. "
   ]
  },
  {
   "cell_type": "markdown",
   "id": "4642d6c2",
   "metadata": {},
   "source": [
    "#### 7. Reflect on your experience interacting with ChatBot and describe how your perception of AI-driven assistance tools in the context of learning coding, statistics, and data science has been evolving (or not) since joining the course<br><br>\n",
    "\n",
    "As mentioned previously, I really enjoyed using chatbots as a learning tool. Before joining the course, I never really thought that AI-driven assistance tools would be so heavily emphasized in this course since I'd more or less expected more mathematics than coding in statistics, but I suppose I was very wrong. I never knew AI/chatbots would contribute so much to software development / data science, but now I wonder what they can not do (atleast compared to humans). My perception has definitely evolved a lot and I have (and will) definitely rely a lot on AI in the coming few months in this course for guidance. This homework taught me how chatbots work (eg. markovian chain model) — based on previous data — and I now realize how dependent it is on our interaction with them. \n",
    "\n",
    "<details class=\"details-example\"><summary style=\"color:blue\"><u>Further Guidance</u></summary>\n",
    "    \n",
    "> _Question \"7\" and the next question \"8\" are somewhat related to the first bullet point in the suggested interactions of the \"Afterword\" to the Homework from last week... consider reviewing that if you'd like a little extra orienting around what these questions are trying to have you explore_\n",
    "   \n",
    "</details>"
   ]
  },
  {
   "cell_type": "markdown",
   "id": "500f440e",
   "metadata": {},
   "source": [
    "#### 8. ChatBots consume text data available on the web or platforms, and thus represents a new way to \"search consensensus\" that condenses and summarizes mainstream human thought<br><br>\n",
    "\n",
    "1. Start a new ChatBot session and discuss the relevance of learning and adaptability, communication, coding, and statistics and data analysis as skills in the modern world, especially with respect to career opportunities (particularly in the context of the data science industry)<br><br>\n",
    "    \n",
    "    The field of data science is evolving rapidly as new tools and methodologies are emerging frequently. Adaptability and constant learning is definitely required to stay on top of the game. From my conversations with both the chatbots and computer science/tech professionals, I know that it is important to be able to transition between different roles in data science, especially data analysis or ML or data engineering. Communication is always important in (almost) all careers. In the data science field, it is most critical in roles such as data strategies or roles that translate technical insights into business value. Coding is obviously dundamental in data science (as we're studying it right now) — mostly in languages of python, R, and SQL. Statistics & data analysis is important in any roles in data science, most particularly in roles like data analysts and quantitative analyst. \n",
    "    \n",
    "2. See if ChatBot thinks you could be a statistician or data scientist without coding or doing data analysis, and then transition your ChatBot conversation into a career exploration discussion, using the ChatBot to identify the skills that might be the most valuable for a career that you're interested<br><br>\n",
    "\n",
    "Chatgpt thinks it's challenging to pursue any of those carers without engaging in coding or data analysis, because coding (in R, python, etc) are the fundamentals in being able to manage datasets and to automate repetitive tasks, or to build and deploy learning models.  Data analysis (understanding statistical methods, etc) is also a critical skill in order to  perform hypothesis testing as well as uncovering pattersn, trends and actionable insights from data. \n",
    "\n",
    "I am interested in being a quantitative analyst. Skills that are most valuable include maths & statistics skills to develop models & algorithms used in trading and risk management; programming and coding to implementing models (R, python, C++, SQL); Data analysis and ML to analyze large datasets and optimizing trading strategies; problem solving and analytical thinking. Another career I'm considering is a quantitative trader, which also requires skills in market knowledge, algorithmic trading, risk management, data analysis skills & interpretation, as well as programming and technology skills to optimize & implement trading strategies. \n",
    "    \n",
    "3. Ask for a summary of this ChatBot session and paste it into your homework notebook (including link(s) to chat log histories if you're using ChatBot)<br><br>\n",
    "\n",
    "chatgpt link: https://chatgpt.com/share/66eb3d6a-27f0-8005-9d44-7d89e3d692f4\n",
    "summary:\n",
    "Here's a summary of our conversation:\n",
    "\n",
    "Skills in Data Science: We discussed the importance of learning and adaptability, communication, coding, and statistics and data analysis in the data science industry. Each skill is crucial for staying current with trends, effectively conveying insights, performing technical tasks, and understanding data.\n",
    "\n",
    "Career in Statistics/Data Science Without Coding/Analysis: We talked about the challenges of pursuing a career in statistics or data science without coding or data analysis skills. While some roles might focus more on strategy or consulting, coding and data analysis are generally fundamental to most positions in these fields.\n",
    "\n",
    "Skills for Quantitative Finance:\n",
    "\n",
    "Quantitative Analyst: Key skills include mathematics and statistics, programming and coding, data analysis and machine learning, financial theory and instruments, quantitative methods, and problem-solving.\n",
    "Quantitative Trader: Essential skills include market knowledge and financial instruments, algorithmic trading, risk management, data analysis and interpretation, decision-making under pressure, and programming and technology.\n",
    "These skills collectively enhance the ability to excel in quantitative finance roles, whether as a trader or analyst.\n",
    "    \n",
    "4. Paraphrase the assessments and conclusions of your conversation in the form of a reflection on your current thoughts regarding your potential future career(s) and how you can go about building the skills you need to pursue it<br><br>\n",
    "\n",
    "as a first year, this is a lot to take in. I currently don't have any of the skill sets chatgpt mentioned, so it'll take a lot of work and studying to get there — and i know it'll be hard. I think I can go about building the skills for quantitative finance roles through engaging in finance and coding clubs; working on side projects, developing my own algorithmic models, learning more about finance & the economy, and learning outside of school (enhance my skills in C++, R, and SQL). \n",
    "\n",
    "5. Give your thoughts regarding the helpfulness or limitations of your conversation with a ChatBot, and describe the next steps you would take to pursue this conversation further if you felt the information the ChatBot provides was somewhat high level and general, and perhaps lacked the depth and detailed knowledge of a dedicated subject matter expert who had really take the time to understand the ins and outs of the industry and career path in question.\n",
    "<br><br>\n",
    "\n",
    "I think it is quite general. An industry expert would definitely have been much more insightful since they have first-hand experience. I know the quant industry is very difficult to break into, and developing simply those skills will not be sufficient. Experts would be more helpful in mentoring or providing advice on how to climb up the ladder or stand out from the crowd.\n",
    "\n",
    "<details class=\"details-example\"><summary style=\"color:blue\"><u>Further Guidance</u></summary>\n",
    "\n",
    "> _While question 8 is not a part of the rubric, it is nonetheless a very good exercise that will likely be valuable for you if you engage it them sincerely_\n",
    "    \n",
    "</details>\n"
   ]
  },
  {
   "cell_type": "markdown",
   "id": "b489452e",
   "metadata": {},
   "source": [
    "#### 9. Have you reviewed the course [wiki-textbook](https://github.com/pointOfive/stat130chat130/wiki) and interacted with a ChatBot (or, if that wasn't sufficient, real people in the course piazza discussion board or TA office hours) to help you understand all the material in the tutorial and lecture that you didn't quite follow when you first saw it?<br><br>\n",
    "  \n",
    "<details class=\"details-example\"><summary style=\"color:blue\"><u>Further Guidance</u></summary>\n",
    "    \n",
    "> _Just answering \"Yes\" or \"No\" or \"Somewhat\" or \"Mostly\" or whatever here is fine as this question isn't a part of the rubric; but, the midterm and final exams may ask questions that are based on the tutorial and lecture materials; and, your own skills will be limited by your familiarity with these materials (which will determine your ability to actually do actual things effectively with these skills... like the course project...)_\n",
    "    \n",
    "</details>"
   ]
  },
  {
   "cell_type": "markdown",
   "id": "d5c0b252",
   "metadata": {},
   "source": [
    "Yes"
   ]
  },
  {
   "cell_type": "code",
   "execution_count": null,
   "id": "16f95257fb4fda6c",
   "metadata": {},
   "outputs": [],
   "source": [
    "# Markovian Chatbot\n",
    "\n",
    "# from collections import defaultdict\n",
    "word_used = dict() # defaultdict(int)\n",
    "next_word = dict() # defaultdict(lambda: defaultdict(int))\n",
    "for i,word in enumerate(words[:-1]):\n",
    "\n",
    "    if word in word_used:\n",
    "        word_used[word] += 1\n",
    "    else:\n",
    "        word_used[word] = 1\n",
    "        next_word[word] = {}\n",
    "\n",
    "    if words[i+1] in next_word[word]:\n",
    "        next_word[word][words[i+1]] += 1\n",
    "    else:\n",
    "        next_word[word][words[i+1]] = 1"
   ]
  },
  {
   "cell_type": "code",
   "execution_count": null,
   "id": "bd0e5d2163411e8e",
   "metadata": {},
   "outputs": [],
   "source": [
    "# Markovian Chatbot Extension #1\n",
    "\n",
    "word_used2 = defaultdict(int)\n",
    "next_word2 = defaultdict(lambda: defaultdict(int))\n",
    "for i,word in enumerate(words[:-2]):\n",
    "    word_used2[word+' '+words[i+1]] += 1\n",
    "    next_word2[word+' '+words[i+1]][words[i+2]] += 1 "
   ]
  },
  {
   "cell_type": "code",
   "execution_count": null,
   "id": "33fe616edecddb60",
   "metadata": {},
   "outputs": [],
   "source": [
    "# Markovian Chatbot Extension #2\n",
    "\n",
    "from collections import Counter, defaultdict\n",
    "# `avatar` is a dataset, and `character` is one of it's columns\n",
    "characters = Counter(\"\\n\"+ avatar.character.str.upper().str.replace(' ','.')+\":\")\n",
    "# this code changes the type of the `character` column to `str`; then,\n",
    "# makes the text uppercase, and replaces spaces with '.'\n",
    "\n",
    "nested_dict = lambda: defaultdict(nested_dict)\n",
    "word_used2C = nested_dict()\n",
    "next_word2C = nested_dict()\n",
    "\n",
    "for i,word in enumerate(words[:-2]):\n",
    "    if word in characters:\n",
    "        character = word\n",
    "        \n",
    "    if character not in word_used2C:\n",
    "        word_used2C[character] = dict()\n",
    "    if word+' '+words[i+1] not in word_used2C[character]:\n",
    "        word_used2C[character][word+' '+words[i+1]] = 0\n",
    "    word_used2C[character][word+' '+words[i+1]] += 1\n",
    "    \n",
    "    if character not in next_word2C:\n",
    "        next_word2C[character] = dict()\n",
    "    if word+' '+words[i+1] not in next_word2C[character]:\n",
    "        next_word2C[character][word+' '+words[i+1]] = dict()\n",
    "    if words[i+2] not in next_word2C[character][word+' '+words[i+1]]:\n",
    "        next_word2C[character][word+' '+words[i+1]][words[i+2]] = 0\n",
    "    next_word2C[character][word+' '+words[i+1]][words[i+2]] += 1"
   ]
  },
  {
   "cell_type": "markdown",
   "id": "1ebfa9b9",
   "metadata": {},
   "source": [
    "## Recommended Additional Useful Activities [Optional]\n",
    "\n",
    "The \"Ethical Profesionalism Considerations\" and \"Current Course Project Capability Level\" sections below **are not a part of the required homework assignment**; rather, they are regular weekly guides covering (a) relevant considerations regarding professional and ethical conduct, and (b) the analysis steps for the STA130 course project that are feasible at the current stage of the course <br><br>\n",
    "\n",
    "\n",
    "<details class=\"details-example\"><summary style=\"color:blue\"><u>Ethical Professionalism Considerations</u></summary>\n",
    "\n",
    "### Ethical Professionalism Considerations\n",
    "\n",
    "    \n",
    "> 1. If you've not heard of the \"reproducibility crisis\" in science, have a ChatBot explain it to you\n",
    "> 2. If you've not heard of the \"open source software\" (versus proprietary software), have a ChatBot explain it to you\n",
    "> 3. \"Reproducibility\" can also be considered at the level of a given data analysis project: can others replicate the results of code or analysis that you've done?\n",
    ">    1. Discuss with a ChatBot how jupyter notebooks and github can be used facilitate transparency and reproducibility in data analysis\n",
    "> 4. Discuss with a ChatBot what the distinction is between replicability of scientific experiments, versus the replicability of a specific data analysis project, and what your responsibility as an analyst should be with respect to both\n",
    "> 5. Do you think proprietary (non \"open source software\") software, such as Microsoft Word, Outlook, and Copilot tends to result in high quality products?  \n",
    ">     1. Do you think software product monopolies (such as the UofT dependence on Microsoft products) makes the world a better place?\n",
    "</details>    \n",
    "\n",
    "<details class=\"details-example\"><summary style=\"color:blue\"><u>Current Course Project Capability Level</u></summary>\n",
    "\n",
    "### Current Course Project Capability Level\n",
    "   \n",
    "**Remember to abide by the [data use agreement](https://static1.squarespace.com/static/60283c2e174c122f8ebe0f39/t/6239c284d610f76fed5a2e69/1647952517436/Data+Use+Agreement+for+the+Canadian+Social+Connection+Survey.pdf) at all times.**\n",
    "\n",
    "Information about the course project is available on the course github repo [here](https://github.com/pointOfive/stat130chat130/tree/main/CP), including a draft [course project specfication](https://github.com/pointOfive/stat130chat130/blob/main/CP/STA130F23_course_project_specification.ipynb) (subject to change). \n",
    "- The Week 01 HW introduced [STA130F24_CourseProject.ipynb](https://github.com/pointOfive/stat130chat130/blob/main/CP/STA130F24_CourseProject.ipynb), and the [available variables](https://drive.google.com/file/d/1ISVymGn-WR1lcRs4psIym2N3or5onNBi/view). \n",
    "- Please do not download the [data](https://drive.google.com/file/d/1mbUQlMTrNYA7Ly5eImVRBn16Ehy9Lggo/view) accessible at the bottom of the [CSCS](https://casch.org/cscs) webpage (or the course github repo) multiple times.\n",
    "\n",
    "> At this point in the course you should be able to create a `for` loop to iterate through and provide **simple summaries** of some of the interesting columns in the course project data\n",
    ">\n",
    "> 1. Create two versions of the code, one for numeric and the other for categorical data,  which provide a printout format that displays relavent summaries and the missing data counts for a given set of (either numerical or categorical) columns being examined\n",
    ">\n",
    "> 2. Combine the two separate `for` loops into a single `for` loop using an `if`/`else` **conditional logic structure** that determines the correct printout format based on the data type of the column under consideration  \n",
    ">     1. *Being able to transform existing code so it's \"resuable\" for different purposes is one version of the programming design principle of \"polymorphism\" (which means \"many forms\" or \"many uses\") [as in the first task above]*\n",
    ">     2. *A better version of the programming design principle of \"polymorphism\" is when the same code can handle different use cases [as in the second tast above]*\n",
    ">     3. *Being able run your code with different subsets of columns as interest in different variables changes is a final form of the programming design principle of \"polymorphism\" that's demonstrated through this exercise*   \n",
    "    \n",
    "</details>        "
   ]
  }
 ],
 "metadata": {
  "kernelspec": {
   "display_name": "Python 3 (ipykernel)",
   "language": "python",
   "name": "python3"
  },
  "language_info": {
   "codemirror_mode": {
    "name": "ipython",
    "version": 3
   },
   "file_extension": ".py",
   "mimetype": "text/x-python",
   "name": "python",
   "nbconvert_exporter": "python",
   "pygments_lexer": "ipython3",
   "version": "3.11.6"
  }
 },
 "nbformat": 4,
 "nbformat_minor": 5
}
